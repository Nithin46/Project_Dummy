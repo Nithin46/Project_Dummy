{
  "nbformat": 4,
  "nbformat_minor": 0,
  "metadata": {
    "colab": {
      "name": "IMDB Enhance.ipynb",
      "provenance": [],
      "collapsed_sections": [],
      "mount_file_id": "1mJw3klDa-f33rhk6k9RaxpdNH4D-TUxQ",
      "authorship_tag": "ABX9TyM88Rfi71sGozmb81PKwHEX",
      "include_colab_link": true
    },
    "kernelspec": {
      "name": "python3",
      "display_name": "Python 3"
    },
    "language_info": {
      "name": "python"
    },
    "accelerator": "GPU"
  },
  "cells": [
    {
      "cell_type": "markdown",
      "metadata": {
        "id": "view-in-github",
        "colab_type": "text"
      },
      "source": [
        "<a href=\"https://colab.research.google.com/github/Nithin46/Project_Dummy/blob/main/IMDB_Enhance.ipynb\" target=\"_parent\"><img src=\"https://colab.research.google.com/assets/colab-badge.svg\" alt=\"Open In Colab\"/></a>"
      ]
    },
    {
      "cell_type": "code",
      "metadata": {
        "id": "IFLJf617Oflp"
      },
      "source": [
        "import pandas as pd\n",
        "import numpy as np\n",
        "import plotly.express as px\n",
        "\n",
        "import matplotlib.pyplot as plt\n",
        "\n",
        "from sklearn.model_selection import train_test_split\n",
        "from sklearn.feature_extraction.text import CountVectorizer\n",
        "from sklearn.feature_extraction.text import TfidfTransformer\n",
        "\n",
        "import tensorflow as tf\n",
        "from tensorflow.keras.models import Sequential\n",
        "from tensorflow.keras.layers import Dense, Activation, Dropout\n",
        "from tensorflow.keras.callbacks import EarlyStopping"
      ],
      "execution_count": 1,
      "outputs": []
    },
    {
      "cell_type": "code",
      "metadata": {
        "colab": {
          "base_uri": "https://localhost:8080/",
          "height": 244
        },
        "id": "OflfcXO-PKoi",
        "outputId": "f0a19923-75f8-4e1e-b0b8-5bc522a21452"
      },
      "source": [
        "Net = pd.read_csv('/content/drive/MyDrive/Colab Notebooks/Project/netflix_titles.csv', low_memory=False)\n",
        "Net.head(3)"
      ],
      "execution_count": 2,
      "outputs": [
        {
          "output_type": "execute_result",
          "data": {
            "text/html": [
              "<div>\n",
              "<style scoped>\n",
              "    .dataframe tbody tr th:only-of-type {\n",
              "        vertical-align: middle;\n",
              "    }\n",
              "\n",
              "    .dataframe tbody tr th {\n",
              "        vertical-align: top;\n",
              "    }\n",
              "\n",
              "    .dataframe thead th {\n",
              "        text-align: right;\n",
              "    }\n",
              "</style>\n",
              "<table border=\"1\" class=\"dataframe\">\n",
              "  <thead>\n",
              "    <tr style=\"text-align: right;\">\n",
              "      <th></th>\n",
              "      <th>show_id</th>\n",
              "      <th>type</th>\n",
              "      <th>title</th>\n",
              "      <th>director</th>\n",
              "      <th>cast</th>\n",
              "      <th>country</th>\n",
              "      <th>date_added</th>\n",
              "      <th>release_year</th>\n",
              "      <th>rating</th>\n",
              "      <th>duration</th>\n",
              "      <th>listed_in</th>\n",
              "      <th>description</th>\n",
              "    </tr>\n",
              "  </thead>\n",
              "  <tbody>\n",
              "    <tr>\n",
              "      <th>0</th>\n",
              "      <td>s1</td>\n",
              "      <td>TV Show</td>\n",
              "      <td>3%</td>\n",
              "      <td>NaN</td>\n",
              "      <td>João Miguel, Bianca Comparato, Michel Gomes, R...</td>\n",
              "      <td>Brazil</td>\n",
              "      <td>14-Aug-20</td>\n",
              "      <td>2020</td>\n",
              "      <td>TV-MA</td>\n",
              "      <td>4 Seasons</td>\n",
              "      <td>International TV Shows, TV Dramas, TV Sci-Fi &amp;...</td>\n",
              "      <td>In a future where the elite inhabit an island ...</td>\n",
              "    </tr>\n",
              "    <tr>\n",
              "      <th>1</th>\n",
              "      <td>s2</td>\n",
              "      <td>Movie</td>\n",
              "      <td>7:19</td>\n",
              "      <td>Jorge Michel Grau</td>\n",
              "      <td>Demián Bichir, Héctor Bonilla, Oscar Serrano, ...</td>\n",
              "      <td>Mexico</td>\n",
              "      <td>23-Dec-16</td>\n",
              "      <td>2016</td>\n",
              "      <td>TV-MA</td>\n",
              "      <td>93 min</td>\n",
              "      <td>Dramas, International Movies</td>\n",
              "      <td>After a devastating earthquake hits Mexico Cit...</td>\n",
              "    </tr>\n",
              "    <tr>\n",
              "      <th>2</th>\n",
              "      <td>s3</td>\n",
              "      <td>Movie</td>\n",
              "      <td>23:59</td>\n",
              "      <td>Gilbert Chan</td>\n",
              "      <td>Tedd Chan, Stella Chung, Henley Hii, Lawrence ...</td>\n",
              "      <td>Singapore</td>\n",
              "      <td>20-Dec-18</td>\n",
              "      <td>2011</td>\n",
              "      <td>R</td>\n",
              "      <td>78 min</td>\n",
              "      <td>Horror Movies, International Movies</td>\n",
              "      <td>When an army recruit is found dead, his fellow...</td>\n",
              "    </tr>\n",
              "  </tbody>\n",
              "</table>\n",
              "</div>"
            ],
            "text/plain": [
              "  show_id  ...                                        description\n",
              "0      s1  ...  In a future where the elite inhabit an island ...\n",
              "1      s2  ...  After a devastating earthquake hits Mexico Cit...\n",
              "2      s3  ...  When an army recruit is found dead, his fellow...\n",
              "\n",
              "[3 rows x 12 columns]"
            ]
          },
          "metadata": {
            "tags": []
          },
          "execution_count": 2
        }
      ]
    },
    {
      "cell_type": "code",
      "metadata": {
        "colab": {
          "base_uri": "https://localhost:8080/",
          "height": 417
        },
        "id": "IS4TmddSQFhq",
        "outputId": "1620c1cb-653d-4412-8ff0-c905198d13ce"
      },
      "source": [
        "IMDB = pd.read_csv('/content/drive/MyDrive/Colab Notebooks/Project/IMDb movies.csv',low_memory=False)\n",
        "IMDB.head(3)"
      ],
      "execution_count": 3,
      "outputs": [
        {
          "output_type": "execute_result",
          "data": {
            "text/html": [
              "<div>\n",
              "<style scoped>\n",
              "    .dataframe tbody tr th:only-of-type {\n",
              "        vertical-align: middle;\n",
              "    }\n",
              "\n",
              "    .dataframe tbody tr th {\n",
              "        vertical-align: top;\n",
              "    }\n",
              "\n",
              "    .dataframe thead th {\n",
              "        text-align: right;\n",
              "    }\n",
              "</style>\n",
              "<table border=\"1\" class=\"dataframe\">\n",
              "  <thead>\n",
              "    <tr style=\"text-align: right;\">\n",
              "      <th></th>\n",
              "      <th>imdb_title_id</th>\n",
              "      <th>title</th>\n",
              "      <th>original_title</th>\n",
              "      <th>year</th>\n",
              "      <th>date_published</th>\n",
              "      <th>genre</th>\n",
              "      <th>duration</th>\n",
              "      <th>country</th>\n",
              "      <th>language</th>\n",
              "      <th>director</th>\n",
              "      <th>writer</th>\n",
              "      <th>production_company</th>\n",
              "      <th>actors</th>\n",
              "      <th>description</th>\n",
              "      <th>avg_vote</th>\n",
              "      <th>votes</th>\n",
              "      <th>budget</th>\n",
              "      <th>usa_gross_income</th>\n",
              "      <th>worlwide_gross_income</th>\n",
              "      <th>metascore</th>\n",
              "      <th>reviews_from_users</th>\n",
              "      <th>reviews_from_critics</th>\n",
              "    </tr>\n",
              "  </thead>\n",
              "  <tbody>\n",
              "    <tr>\n",
              "      <th>0</th>\n",
              "      <td>tt0000009</td>\n",
              "      <td>Miss Jerry</td>\n",
              "      <td>Miss Jerry</td>\n",
              "      <td>1894</td>\n",
              "      <td>1894-10-09</td>\n",
              "      <td>Romance</td>\n",
              "      <td>45</td>\n",
              "      <td>USA</td>\n",
              "      <td>None</td>\n",
              "      <td>Alexander Black</td>\n",
              "      <td>Alexander Black</td>\n",
              "      <td>Alexander Black Photoplays</td>\n",
              "      <td>Blanche Bayliss, William Courtenay, Chauncey D...</td>\n",
              "      <td>The adventures of a female reporter in the 1890s.</td>\n",
              "      <td>5.9</td>\n",
              "      <td>154</td>\n",
              "      <td>NaN</td>\n",
              "      <td>NaN</td>\n",
              "      <td>NaN</td>\n",
              "      <td>NaN</td>\n",
              "      <td>1.0</td>\n",
              "      <td>2.0</td>\n",
              "    </tr>\n",
              "    <tr>\n",
              "      <th>1</th>\n",
              "      <td>tt0000574</td>\n",
              "      <td>The Story of the Kelly Gang</td>\n",
              "      <td>The Story of the Kelly Gang</td>\n",
              "      <td>1906</td>\n",
              "      <td>1906-12-26</td>\n",
              "      <td>Biography, Crime, Drama</td>\n",
              "      <td>70</td>\n",
              "      <td>Australia</td>\n",
              "      <td>None</td>\n",
              "      <td>Charles Tait</td>\n",
              "      <td>Charles Tait</td>\n",
              "      <td>J. and N. Tait</td>\n",
              "      <td>Elizabeth Tait, John Tait, Norman Campbell, Be...</td>\n",
              "      <td>True story of notorious Australian outlaw Ned ...</td>\n",
              "      <td>6.1</td>\n",
              "      <td>589</td>\n",
              "      <td>$ 2250</td>\n",
              "      <td>NaN</td>\n",
              "      <td>NaN</td>\n",
              "      <td>NaN</td>\n",
              "      <td>7.0</td>\n",
              "      <td>7.0</td>\n",
              "    </tr>\n",
              "    <tr>\n",
              "      <th>2</th>\n",
              "      <td>tt0001892</td>\n",
              "      <td>Den sorte drøm</td>\n",
              "      <td>Den sorte drøm</td>\n",
              "      <td>1911</td>\n",
              "      <td>1911-08-19</td>\n",
              "      <td>Drama</td>\n",
              "      <td>53</td>\n",
              "      <td>Germany, Denmark</td>\n",
              "      <td>NaN</td>\n",
              "      <td>Urban Gad</td>\n",
              "      <td>Urban Gad, Gebhard Schätzler-Perasini</td>\n",
              "      <td>Fotorama</td>\n",
              "      <td>Asta Nielsen, Valdemar Psilander, Gunnar Helse...</td>\n",
              "      <td>Two men of high rank are both wooing the beaut...</td>\n",
              "      <td>5.8</td>\n",
              "      <td>188</td>\n",
              "      <td>NaN</td>\n",
              "      <td>NaN</td>\n",
              "      <td>NaN</td>\n",
              "      <td>NaN</td>\n",
              "      <td>5.0</td>\n",
              "      <td>2.0</td>\n",
              "    </tr>\n",
              "  </tbody>\n",
              "</table>\n",
              "</div>"
            ],
            "text/plain": [
              "  imdb_title_id  ... reviews_from_critics\n",
              "0     tt0000009  ...                  2.0\n",
              "1     tt0000574  ...                  7.0\n",
              "2     tt0001892  ...                  2.0\n",
              "\n",
              "[3 rows x 22 columns]"
            ]
          },
          "metadata": {
            "tags": []
          },
          "execution_count": 3
        }
      ]
    },
    {
      "cell_type": "code",
      "metadata": {
        "colab": {
          "base_uri": "https://localhost:8080/",
          "height": 221
        },
        "id": "ItlYhJ85QZs7",
        "outputId": "0a99dbfa-b8af-4a30-be44-9e1a708d9ab2"
      },
      "source": [
        "new_ratings = pd.DataFrame({'Title':IMDB.title,\n",
        "                    'Rating': IMDB.avg_vote})\n",
        "\n",
        "new_ratings.drop_duplicates(subset=['Title', 'Rating'], inplace=True)\n",
        "\n",
        "print(new_ratings.shape)\n",
        "new_ratings.head(5)"
      ],
      "execution_count": 4,
      "outputs": [
        {
          "output_type": "stream",
          "text": [
            "(85733, 2)\n"
          ],
          "name": "stdout"
        },
        {
          "output_type": "execute_result",
          "data": {
            "text/html": [
              "<div>\n",
              "<style scoped>\n",
              "    .dataframe tbody tr th:only-of-type {\n",
              "        vertical-align: middle;\n",
              "    }\n",
              "\n",
              "    .dataframe tbody tr th {\n",
              "        vertical-align: top;\n",
              "    }\n",
              "\n",
              "    .dataframe thead th {\n",
              "        text-align: right;\n",
              "    }\n",
              "</style>\n",
              "<table border=\"1\" class=\"dataframe\">\n",
              "  <thead>\n",
              "    <tr style=\"text-align: right;\">\n",
              "      <th></th>\n",
              "      <th>Title</th>\n",
              "      <th>Rating</th>\n",
              "    </tr>\n",
              "  </thead>\n",
              "  <tbody>\n",
              "    <tr>\n",
              "      <th>0</th>\n",
              "      <td>Miss Jerry</td>\n",
              "      <td>5.9</td>\n",
              "    </tr>\n",
              "    <tr>\n",
              "      <th>1</th>\n",
              "      <td>The Story of the Kelly Gang</td>\n",
              "      <td>6.1</td>\n",
              "    </tr>\n",
              "    <tr>\n",
              "      <th>2</th>\n",
              "      <td>Den sorte drøm</td>\n",
              "      <td>5.8</td>\n",
              "    </tr>\n",
              "    <tr>\n",
              "      <th>3</th>\n",
              "      <td>Cleopatra</td>\n",
              "      <td>5.2</td>\n",
              "    </tr>\n",
              "    <tr>\n",
              "      <th>4</th>\n",
              "      <td>L'Inferno</td>\n",
              "      <td>7.0</td>\n",
              "    </tr>\n",
              "  </tbody>\n",
              "</table>\n",
              "</div>"
            ],
            "text/plain": [
              "                         Title  Rating\n",
              "0                   Miss Jerry     5.9\n",
              "1  The Story of the Kelly Gang     6.1\n",
              "2               Den sorte drøm     5.8\n",
              "3                    Cleopatra     5.2\n",
              "4                    L'Inferno     7.0"
            ]
          },
          "metadata": {
            "tags": []
          },
          "execution_count": 4
        }
      ]
    },
    {
      "cell_type": "code",
      "metadata": {
        "colab": {
          "base_uri": "https://localhost:8080/",
          "height": 544
        },
        "id": "MRX_FgWiQuO8",
        "outputId": "30a2feae-0d95-45f9-c2eb-340bc58f939b"
      },
      "source": [
        "Inner_join_data = new_ratings.merge(Net,left_on='Title', right_on='title', how='inner')\n",
        "Inner_join_data=Inner_join_data.sort_values(by='Rating', ascending=False)\n",
        "\n",
        "print(Inner_join_data.shape)\n",
        "Inner_join_data.head(5)"
      ],
      "execution_count": 5,
      "outputs": [
        {
          "output_type": "stream",
          "text": [
            "(2721, 14)\n"
          ],
          "name": "stdout"
        },
        {
          "output_type": "execute_result",
          "data": {
            "text/html": [
              "<div>\n",
              "<style scoped>\n",
              "    .dataframe tbody tr th:only-of-type {\n",
              "        vertical-align: middle;\n",
              "    }\n",
              "\n",
              "    .dataframe tbody tr th {\n",
              "        vertical-align: top;\n",
              "    }\n",
              "\n",
              "    .dataframe thead th {\n",
              "        text-align: right;\n",
              "    }\n",
              "</style>\n",
              "<table border=\"1\" class=\"dataframe\">\n",
              "  <thead>\n",
              "    <tr style=\"text-align: right;\">\n",
              "      <th></th>\n",
              "      <th>Title</th>\n",
              "      <th>Rating</th>\n",
              "      <th>show_id</th>\n",
              "      <th>type</th>\n",
              "      <th>title</th>\n",
              "      <th>director</th>\n",
              "      <th>cast</th>\n",
              "      <th>country</th>\n",
              "      <th>date_added</th>\n",
              "      <th>release_year</th>\n",
              "      <th>rating</th>\n",
              "      <th>duration</th>\n",
              "      <th>listed_in</th>\n",
              "      <th>description</th>\n",
              "    </tr>\n",
              "  </thead>\n",
              "  <tbody>\n",
              "    <tr>\n",
              "      <th>977</th>\n",
              "      <td>Innocent</td>\n",
              "      <td>9.0</td>\n",
              "      <td>s3009</td>\n",
              "      <td>TV Show</td>\n",
              "      <td>Innocent</td>\n",
              "      <td>Seren Yüce</td>\n",
              "      <td>Ali Atay, Haluk Bilginer, Nur Sürer, Okan Yala...</td>\n",
              "      <td>Turkey</td>\n",
              "      <td>23-Jan-19</td>\n",
              "      <td>2017</td>\n",
              "      <td>TV-MA</td>\n",
              "      <td>1 Season</td>\n",
              "      <td>Crime TV Shows, International TV Shows, TV Dramas</td>\n",
              "      <td>In a peaceful, rustic town, a retired officer ...</td>\n",
              "    </tr>\n",
              "    <tr>\n",
              "      <th>988</th>\n",
              "      <td>Breakout</td>\n",
              "      <td>9.0</td>\n",
              "      <td>s1093</td>\n",
              "      <td>TV Show</td>\n",
              "      <td>Breakout</td>\n",
              "      <td>NaN</td>\n",
              "      <td>Jeanette Aw, Elvin Ng, Zhou Ying, Christopher ...</td>\n",
              "      <td>NaN</td>\n",
              "      <td>1-Jul-17</td>\n",
              "      <td>2010</td>\n",
              "      <td>TV-14</td>\n",
              "      <td>1 Season</td>\n",
              "      <td>International TV Shows, TV Dramas</td>\n",
              "      <td>After losing her family in a suspicious car cr...</td>\n",
              "    </tr>\n",
              "    <tr>\n",
              "      <th>389</th>\n",
              "      <td>Pulp Fiction</td>\n",
              "      <td>8.9</td>\n",
              "      <td>s5003</td>\n",
              "      <td>Movie</td>\n",
              "      <td>Pulp Fiction</td>\n",
              "      <td>Quentin Tarantino</td>\n",
              "      <td>John Travolta, Samuel L. Jackson, Uma Thurman,...</td>\n",
              "      <td>United States</td>\n",
              "      <td>1-Jan-19</td>\n",
              "      <td>1994</td>\n",
              "      <td>R</td>\n",
              "      <td>154 min</td>\n",
              "      <td>Classic Movies, Cult Movies, Dramas</td>\n",
              "      <td>This stylized crime caper weaves together stor...</td>\n",
              "    </tr>\n",
              "    <tr>\n",
              "      <th>371</th>\n",
              "      <td>Schindler's List</td>\n",
              "      <td>8.9</td>\n",
              "      <td>s5431</td>\n",
              "      <td>Movie</td>\n",
              "      <td>Schindler's List</td>\n",
              "      <td>Steven Spielberg</td>\n",
              "      <td>Liam Neeson, Ben Kingsley, Ralph Fiennes, Caro...</td>\n",
              "      <td>United States</td>\n",
              "      <td>1-Apr-18</td>\n",
              "      <td>1993</td>\n",
              "      <td>R</td>\n",
              "      <td>195 min</td>\n",
              "      <td>Classic Movies, Dramas</td>\n",
              "      <td>Oskar Schindler becomes an unlikely humanitari...</td>\n",
              "    </tr>\n",
              "    <tr>\n",
              "      <th>1285</th>\n",
              "      <td>Inception</td>\n",
              "      <td>8.8</td>\n",
              "      <td>s2980</td>\n",
              "      <td>Movie</td>\n",
              "      <td>Inception</td>\n",
              "      <td>Christopher Nolan</td>\n",
              "      <td>Leonardo DiCaprio, Joseph Gordon-Levitt, Ellen...</td>\n",
              "      <td>United States, United Kingdom</td>\n",
              "      <td>1-Jan-20</td>\n",
              "      <td>2010</td>\n",
              "      <td>PG-13</td>\n",
              "      <td>148 min</td>\n",
              "      <td>Action &amp; Adventure, Sci-Fi &amp; Fantasy, Thrillers</td>\n",
              "      <td>In this mind-bending sci-fi thriller, a man ru...</td>\n",
              "    </tr>\n",
              "  </tbody>\n",
              "</table>\n",
              "</div>"
            ],
            "text/plain": [
              "                 Title  ...                                        description\n",
              "977           Innocent  ...  In a peaceful, rustic town, a retired officer ...\n",
              "988           Breakout  ...  After losing her family in a suspicious car cr...\n",
              "389       Pulp Fiction  ...  This stylized crime caper weaves together stor...\n",
              "371   Schindler's List  ...  Oskar Schindler becomes an unlikely humanitari...\n",
              "1285         Inception  ...  In this mind-bending sci-fi thriller, a man ru...\n",
              "\n",
              "[5 rows x 14 columns]"
            ]
          },
          "metadata": {
            "tags": []
          },
          "execution_count": 5
        }
      ]
    },
    {
      "cell_type": "code",
      "metadata": {
        "colab": {
          "base_uri": "https://localhost:8080/",
          "height": 340
        },
        "id": "2PeT1voRRgEU",
        "outputId": "7350c450-e31c-4fa0-8dc5-ecab46e103e5"
      },
      "source": [
        "New_Data = Inner_join_data[['Title', 'Rating', 'type']]\n",
        "\n",
        "New_Data.drop_duplicates(subset=['Title','Rating', 'type'], inplace=True)\n",
        "print(New_Data.shape)\n",
        "New_Data.head(5)"
      ],
      "execution_count": 6,
      "outputs": [
        {
          "output_type": "stream",
          "text": [
            "(2721, 3)\n"
          ],
          "name": "stdout"
        },
        {
          "output_type": "stream",
          "text": [
            "/usr/local/lib/python3.7/dist-packages/ipykernel_launcher.py:3: SettingWithCopyWarning:\n",
            "\n",
            "\n",
            "A value is trying to be set on a copy of a slice from a DataFrame\n",
            "\n",
            "See the caveats in the documentation: https://pandas.pydata.org/pandas-docs/stable/user_guide/indexing.html#returning-a-view-versus-a-copy\n",
            "\n"
          ],
          "name": "stderr"
        },
        {
          "output_type": "execute_result",
          "data": {
            "text/html": [
              "<div>\n",
              "<style scoped>\n",
              "    .dataframe tbody tr th:only-of-type {\n",
              "        vertical-align: middle;\n",
              "    }\n",
              "\n",
              "    .dataframe tbody tr th {\n",
              "        vertical-align: top;\n",
              "    }\n",
              "\n",
              "    .dataframe thead th {\n",
              "        text-align: right;\n",
              "    }\n",
              "</style>\n",
              "<table border=\"1\" class=\"dataframe\">\n",
              "  <thead>\n",
              "    <tr style=\"text-align: right;\">\n",
              "      <th></th>\n",
              "      <th>Title</th>\n",
              "      <th>Rating</th>\n",
              "      <th>type</th>\n",
              "    </tr>\n",
              "  </thead>\n",
              "  <tbody>\n",
              "    <tr>\n",
              "      <th>977</th>\n",
              "      <td>Innocent</td>\n",
              "      <td>9.0</td>\n",
              "      <td>TV Show</td>\n",
              "    </tr>\n",
              "    <tr>\n",
              "      <th>988</th>\n",
              "      <td>Breakout</td>\n",
              "      <td>9.0</td>\n",
              "      <td>TV Show</td>\n",
              "    </tr>\n",
              "    <tr>\n",
              "      <th>389</th>\n",
              "      <td>Pulp Fiction</td>\n",
              "      <td>8.9</td>\n",
              "      <td>Movie</td>\n",
              "    </tr>\n",
              "    <tr>\n",
              "      <th>371</th>\n",
              "      <td>Schindler's List</td>\n",
              "      <td>8.9</td>\n",
              "      <td>Movie</td>\n",
              "    </tr>\n",
              "    <tr>\n",
              "      <th>1285</th>\n",
              "      <td>Inception</td>\n",
              "      <td>8.8</td>\n",
              "      <td>Movie</td>\n",
              "    </tr>\n",
              "  </tbody>\n",
              "</table>\n",
              "</div>"
            ],
            "text/plain": [
              "                 Title  Rating     type\n",
              "977           Innocent     9.0  TV Show\n",
              "988           Breakout     9.0  TV Show\n",
              "389       Pulp Fiction     8.9    Movie\n",
              "371   Schindler's List     8.9    Movie\n",
              "1285         Inception     8.8    Movie"
            ]
          },
          "metadata": {
            "tags": []
          },
          "execution_count": 6
        }
      ]
    },
    {
      "cell_type": "code",
      "metadata": {
        "colab": {
          "base_uri": "https://localhost:8080/"
        },
        "id": "xCXfGcfzXBXf",
        "outputId": "0559a6e4-0d29-495f-9a32-ec705fa92e53"
      },
      "source": [
        "Movies_Data = New_Data[New_Data.type == 'Movie']\n",
        "TV_Data = New_Data[New_Data.type == 'TV Show']\n",
        "print(Movies_Data.shape)\n",
        "TV_Data.shape"
      ],
      "execution_count": 7,
      "outputs": [
        {
          "output_type": "stream",
          "text": [
            "(2384, 3)\n"
          ],
          "name": "stdout"
        },
        {
          "output_type": "execute_result",
          "data": {
            "text/plain": [
              "(337, 3)"
            ]
          },
          "metadata": {
            "tags": []
          },
          "execution_count": 7
        }
      ]
    },
    {
      "cell_type": "code",
      "metadata": {
        "id": "kIvwz-imbXDN"
      },
      "source": [
        "Movies_Data = Movies_Data.drop(['type'], axis=1)"
      ],
      "execution_count": 8,
      "outputs": []
    },
    {
      "cell_type": "code",
      "metadata": {
        "colab": {
          "base_uri": "https://localhost:8080/",
          "height": 419
        },
        "id": "IqCWpFC6aK_9",
        "outputId": "afe4ce81-2822-4f96-cf7a-417f4e8e3173"
      },
      "source": [
        "Movies_Data"
      ],
      "execution_count": 9,
      "outputs": [
        {
          "output_type": "execute_result",
          "data": {
            "text/html": [
              "<div>\n",
              "<style scoped>\n",
              "    .dataframe tbody tr th:only-of-type {\n",
              "        vertical-align: middle;\n",
              "    }\n",
              "\n",
              "    .dataframe tbody tr th {\n",
              "        vertical-align: top;\n",
              "    }\n",
              "\n",
              "    .dataframe thead th {\n",
              "        text-align: right;\n",
              "    }\n",
              "</style>\n",
              "<table border=\"1\" class=\"dataframe\">\n",
              "  <thead>\n",
              "    <tr style=\"text-align: right;\">\n",
              "      <th></th>\n",
              "      <th>Title</th>\n",
              "      <th>Rating</th>\n",
              "    </tr>\n",
              "  </thead>\n",
              "  <tbody>\n",
              "    <tr>\n",
              "      <th>389</th>\n",
              "      <td>Pulp Fiction</td>\n",
              "      <td>8.9</td>\n",
              "    </tr>\n",
              "    <tr>\n",
              "      <th>371</th>\n",
              "      <td>Schindler's List</td>\n",
              "      <td>8.9</td>\n",
              "    </tr>\n",
              "    <tr>\n",
              "      <th>1285</th>\n",
              "      <td>Inception</td>\n",
              "      <td>8.8</td>\n",
              "    </tr>\n",
              "    <tr>\n",
              "      <th>2651</th>\n",
              "      <td>Ani... Dr. Kashinath Ghanekar</td>\n",
              "      <td>8.6</td>\n",
              "    </tr>\n",
              "    <tr>\n",
              "      <th>598</th>\n",
              "      <td>Koshish</td>\n",
              "      <td>8.6</td>\n",
              "    </tr>\n",
              "    <tr>\n",
              "      <th>...</th>\n",
              "      <td>...</td>\n",
              "      <td>...</td>\n",
              "    </tr>\n",
              "    <tr>\n",
              "      <th>832</th>\n",
              "      <td>The Vault</td>\n",
              "      <td>1.9</td>\n",
              "    </tr>\n",
              "    <tr>\n",
              "      <th>571</th>\n",
              "      <td>Himmatwala</td>\n",
              "      <td>1.7</td>\n",
              "    </tr>\n",
              "    <tr>\n",
              "      <th>2175</th>\n",
              "      <td>Aerials</td>\n",
              "      <td>1.6</td>\n",
              "    </tr>\n",
              "    <tr>\n",
              "      <th>1189</th>\n",
              "      <td>Pink</td>\n",
              "      <td>1.6</td>\n",
              "    </tr>\n",
              "    <tr>\n",
              "      <th>1673</th>\n",
              "      <td>Welcome to New York</td>\n",
              "      <td>1.6</td>\n",
              "    </tr>\n",
              "  </tbody>\n",
              "</table>\n",
              "<p>2384 rows × 2 columns</p>\n",
              "</div>"
            ],
            "text/plain": [
              "                              Title  Rating\n",
              "389                    Pulp Fiction     8.9\n",
              "371                Schindler's List     8.9\n",
              "1285                      Inception     8.8\n",
              "2651  Ani... Dr. Kashinath Ghanekar     8.6\n",
              "598                         Koshish     8.6\n",
              "...                             ...     ...\n",
              "832                       The Vault     1.9\n",
              "571                      Himmatwala     1.7\n",
              "2175                        Aerials     1.6\n",
              "1189                           Pink     1.6\n",
              "1673            Welcome to New York     1.6\n",
              "\n",
              "[2384 rows x 2 columns]"
            ]
          },
          "metadata": {
            "tags": []
          },
          "execution_count": 9
        }
      ]
    },
    {
      "cell_type": "code",
      "metadata": {
        "colab": {
          "base_uri": "https://localhost:8080/",
          "height": 419
        },
        "id": "ucp94w0gbho3",
        "outputId": "3ddd1e6d-0a09-4c6f-f020-9c52ca1ee00a"
      },
      "source": [
        "Movies_Data['Polarity_Rating'] = Movies_Data['Rating'].apply(lambda x: 'Positive' if x > 6 else 'Negative')\n",
        "Movies_Data"
      ],
      "execution_count": 10,
      "outputs": [
        {
          "output_type": "execute_result",
          "data": {
            "text/html": [
              "<div>\n",
              "<style scoped>\n",
              "    .dataframe tbody tr th:only-of-type {\n",
              "        vertical-align: middle;\n",
              "    }\n",
              "\n",
              "    .dataframe tbody tr th {\n",
              "        vertical-align: top;\n",
              "    }\n",
              "\n",
              "    .dataframe thead th {\n",
              "        text-align: right;\n",
              "    }\n",
              "</style>\n",
              "<table border=\"1\" class=\"dataframe\">\n",
              "  <thead>\n",
              "    <tr style=\"text-align: right;\">\n",
              "      <th></th>\n",
              "      <th>Title</th>\n",
              "      <th>Rating</th>\n",
              "      <th>Polarity_Rating</th>\n",
              "    </tr>\n",
              "  </thead>\n",
              "  <tbody>\n",
              "    <tr>\n",
              "      <th>389</th>\n",
              "      <td>Pulp Fiction</td>\n",
              "      <td>8.9</td>\n",
              "      <td>Positive</td>\n",
              "    </tr>\n",
              "    <tr>\n",
              "      <th>371</th>\n",
              "      <td>Schindler's List</td>\n",
              "      <td>8.9</td>\n",
              "      <td>Positive</td>\n",
              "    </tr>\n",
              "    <tr>\n",
              "      <th>1285</th>\n",
              "      <td>Inception</td>\n",
              "      <td>8.8</td>\n",
              "      <td>Positive</td>\n",
              "    </tr>\n",
              "    <tr>\n",
              "      <th>2651</th>\n",
              "      <td>Ani... Dr. Kashinath Ghanekar</td>\n",
              "      <td>8.6</td>\n",
              "      <td>Positive</td>\n",
              "    </tr>\n",
              "    <tr>\n",
              "      <th>598</th>\n",
              "      <td>Koshish</td>\n",
              "      <td>8.6</td>\n",
              "      <td>Positive</td>\n",
              "    </tr>\n",
              "    <tr>\n",
              "      <th>...</th>\n",
              "      <td>...</td>\n",
              "      <td>...</td>\n",
              "      <td>...</td>\n",
              "    </tr>\n",
              "    <tr>\n",
              "      <th>832</th>\n",
              "      <td>The Vault</td>\n",
              "      <td>1.9</td>\n",
              "      <td>Negative</td>\n",
              "    </tr>\n",
              "    <tr>\n",
              "      <th>571</th>\n",
              "      <td>Himmatwala</td>\n",
              "      <td>1.7</td>\n",
              "      <td>Negative</td>\n",
              "    </tr>\n",
              "    <tr>\n",
              "      <th>2175</th>\n",
              "      <td>Aerials</td>\n",
              "      <td>1.6</td>\n",
              "      <td>Negative</td>\n",
              "    </tr>\n",
              "    <tr>\n",
              "      <th>1189</th>\n",
              "      <td>Pink</td>\n",
              "      <td>1.6</td>\n",
              "      <td>Negative</td>\n",
              "    </tr>\n",
              "    <tr>\n",
              "      <th>1673</th>\n",
              "      <td>Welcome to New York</td>\n",
              "      <td>1.6</td>\n",
              "      <td>Negative</td>\n",
              "    </tr>\n",
              "  </tbody>\n",
              "</table>\n",
              "<p>2384 rows × 3 columns</p>\n",
              "</div>"
            ],
            "text/plain": [
              "                              Title  Rating Polarity_Rating\n",
              "389                    Pulp Fiction     8.9        Positive\n",
              "371                Schindler's List     8.9        Positive\n",
              "1285                      Inception     8.8        Positive\n",
              "2651  Ani... Dr. Kashinath Ghanekar     8.6        Positive\n",
              "598                         Koshish     8.6        Positive\n",
              "...                             ...     ...             ...\n",
              "832                       The Vault     1.9        Negative\n",
              "571                      Himmatwala     1.7        Negative\n",
              "2175                        Aerials     1.6        Negative\n",
              "1189                           Pink     1.6        Negative\n",
              "1673            Welcome to New York     1.6        Negative\n",
              "\n",
              "[2384 rows x 3 columns]"
            ]
          },
          "metadata": {
            "tags": []
          },
          "execution_count": 10
        }
      ]
    },
    {
      "cell_type": "code",
      "metadata": {
        "colab": {
          "base_uri": "https://localhost:8080/",
          "height": 542
        },
        "id": "vUu51jeEcLl2",
        "outputId": "3c1672dc-b3de-4112-ab92-028f1f433cd0"
      },
      "source": [
        "fig = px.pie(values=Movies_Data['Polarity_Rating'].value_counts(), \n",
        "             names=Movies_Data['Polarity_Rating'].value_counts().index)\n",
        "fig.show()"
      ],
      "execution_count": 11,
      "outputs": [
        {
          "output_type": "display_data",
          "data": {
            "text/html": [
              "<html>\n",
              "<head><meta charset=\"utf-8\" /></head>\n",
              "<body>\n",
              "    <div>\n",
              "            <script src=\"https://cdnjs.cloudflare.com/ajax/libs/mathjax/2.7.5/MathJax.js?config=TeX-AMS-MML_SVG\"></script><script type=\"text/javascript\">if (window.MathJax) {MathJax.Hub.Config({SVG: {font: \"STIX-Web\"}});}</script>\n",
              "                <script type=\"text/javascript\">window.PlotlyConfig = {MathJaxConfig: 'local'};</script>\n",
              "        <script src=\"https://cdn.plot.ly/plotly-latest.min.js\"></script>    \n",
              "            <div id=\"02ddc890-98e3-4905-a798-e9383a57f6cc\" class=\"plotly-graph-div\" style=\"height:525px; width:100%;\"></div>\n",
              "            <script type=\"text/javascript\">\n",
              "                \n",
              "                    window.PLOTLYENV=window.PLOTLYENV || {};\n",
              "                    \n",
              "                if (document.getElementById(\"02ddc890-98e3-4905-a798-e9383a57f6cc\")) {\n",
              "                    Plotly.newPlot(\n",
              "                        '02ddc890-98e3-4905-a798-e9383a57f6cc',\n",
              "                        [{\"domain\": {\"x\": [0.0, 1.0], \"y\": [0.0, 1.0]}, \"hoverlabel\": {\"namelength\": 0}, \"hovertemplate\": \"label=%{label}<br>value=%{value}\", \"labels\": [\"Positive\", \"Negative\"], \"legendgroup\": \"\", \"name\": \"\", \"showlegend\": true, \"type\": \"pie\", \"values\": [1206, 1178]}],\n",
              "                        {\"legend\": {\"tracegroupgap\": 0}, \"margin\": {\"t\": 60}, \"template\": {\"data\": {\"bar\": [{\"error_x\": {\"color\": \"#2a3f5f\"}, \"error_y\": {\"color\": \"#2a3f5f\"}, \"marker\": {\"line\": {\"color\": \"#E5ECF6\", \"width\": 0.5}}, \"type\": \"bar\"}], \"barpolar\": [{\"marker\": {\"line\": {\"color\": \"#E5ECF6\", \"width\": 0.5}}, \"type\": \"barpolar\"}], \"carpet\": [{\"aaxis\": {\"endlinecolor\": \"#2a3f5f\", \"gridcolor\": \"white\", \"linecolor\": \"white\", \"minorgridcolor\": \"white\", \"startlinecolor\": \"#2a3f5f\"}, \"baxis\": {\"endlinecolor\": \"#2a3f5f\", \"gridcolor\": \"white\", \"linecolor\": \"white\", \"minorgridcolor\": \"white\", \"startlinecolor\": \"#2a3f5f\"}, \"type\": \"carpet\"}], \"choropleth\": [{\"colorbar\": {\"outlinewidth\": 0, \"ticks\": \"\"}, \"type\": \"choropleth\"}], \"contour\": [{\"colorbar\": {\"outlinewidth\": 0, \"ticks\": \"\"}, \"colorscale\": [[0.0, \"#0d0887\"], [0.1111111111111111, \"#46039f\"], [0.2222222222222222, \"#7201a8\"], [0.3333333333333333, \"#9c179e\"], [0.4444444444444444, \"#bd3786\"], [0.5555555555555556, \"#d8576b\"], [0.6666666666666666, \"#ed7953\"], [0.7777777777777778, \"#fb9f3a\"], [0.8888888888888888, \"#fdca26\"], [1.0, \"#f0f921\"]], \"type\": \"contour\"}], \"contourcarpet\": [{\"colorbar\": {\"outlinewidth\": 0, \"ticks\": \"\"}, \"type\": \"contourcarpet\"}], \"heatmap\": [{\"colorbar\": {\"outlinewidth\": 0, \"ticks\": \"\"}, \"colorscale\": [[0.0, \"#0d0887\"], [0.1111111111111111, \"#46039f\"], [0.2222222222222222, \"#7201a8\"], [0.3333333333333333, \"#9c179e\"], [0.4444444444444444, \"#bd3786\"], [0.5555555555555556, \"#d8576b\"], [0.6666666666666666, \"#ed7953\"], [0.7777777777777778, \"#fb9f3a\"], [0.8888888888888888, \"#fdca26\"], [1.0, \"#f0f921\"]], \"type\": \"heatmap\"}], \"heatmapgl\": [{\"colorbar\": {\"outlinewidth\": 0, \"ticks\": \"\"}, \"colorscale\": [[0.0, \"#0d0887\"], [0.1111111111111111, \"#46039f\"], [0.2222222222222222, \"#7201a8\"], [0.3333333333333333, \"#9c179e\"], [0.4444444444444444, \"#bd3786\"], [0.5555555555555556, \"#d8576b\"], [0.6666666666666666, \"#ed7953\"], [0.7777777777777778, \"#fb9f3a\"], [0.8888888888888888, \"#fdca26\"], [1.0, \"#f0f921\"]], \"type\": \"heatmapgl\"}], \"histogram\": [{\"marker\": {\"colorbar\": {\"outlinewidth\": 0, \"ticks\": \"\"}}, \"type\": \"histogram\"}], \"histogram2d\": [{\"colorbar\": {\"outlinewidth\": 0, \"ticks\": \"\"}, \"colorscale\": [[0.0, \"#0d0887\"], [0.1111111111111111, \"#46039f\"], [0.2222222222222222, \"#7201a8\"], [0.3333333333333333, \"#9c179e\"], [0.4444444444444444, \"#bd3786\"], [0.5555555555555556, \"#d8576b\"], [0.6666666666666666, \"#ed7953\"], [0.7777777777777778, \"#fb9f3a\"], [0.8888888888888888, \"#fdca26\"], [1.0, \"#f0f921\"]], \"type\": \"histogram2d\"}], \"histogram2dcontour\": [{\"colorbar\": {\"outlinewidth\": 0, \"ticks\": \"\"}, \"colorscale\": [[0.0, \"#0d0887\"], [0.1111111111111111, \"#46039f\"], [0.2222222222222222, \"#7201a8\"], [0.3333333333333333, \"#9c179e\"], [0.4444444444444444, \"#bd3786\"], [0.5555555555555556, \"#d8576b\"], [0.6666666666666666, \"#ed7953\"], [0.7777777777777778, \"#fb9f3a\"], [0.8888888888888888, \"#fdca26\"], [1.0, \"#f0f921\"]], \"type\": \"histogram2dcontour\"}], \"mesh3d\": [{\"colorbar\": {\"outlinewidth\": 0, \"ticks\": \"\"}, \"type\": \"mesh3d\"}], \"parcoords\": [{\"line\": {\"colorbar\": {\"outlinewidth\": 0, \"ticks\": \"\"}}, \"type\": \"parcoords\"}], \"pie\": [{\"automargin\": true, \"type\": \"pie\"}], \"scatter\": [{\"marker\": {\"colorbar\": {\"outlinewidth\": 0, \"ticks\": \"\"}}, \"type\": \"scatter\"}], \"scatter3d\": [{\"line\": {\"colorbar\": {\"outlinewidth\": 0, \"ticks\": \"\"}}, \"marker\": {\"colorbar\": {\"outlinewidth\": 0, \"ticks\": \"\"}}, \"type\": \"scatter3d\"}], \"scattercarpet\": [{\"marker\": {\"colorbar\": {\"outlinewidth\": 0, \"ticks\": \"\"}}, \"type\": \"scattercarpet\"}], \"scattergeo\": [{\"marker\": {\"colorbar\": {\"outlinewidth\": 0, \"ticks\": \"\"}}, \"type\": \"scattergeo\"}], \"scattergl\": [{\"marker\": {\"colorbar\": {\"outlinewidth\": 0, \"ticks\": \"\"}}, \"type\": \"scattergl\"}], \"scattermapbox\": [{\"marker\": {\"colorbar\": {\"outlinewidth\": 0, \"ticks\": \"\"}}, \"type\": \"scattermapbox\"}], \"scatterpolar\": [{\"marker\": {\"colorbar\": {\"outlinewidth\": 0, \"ticks\": \"\"}}, \"type\": \"scatterpolar\"}], \"scatterpolargl\": [{\"marker\": {\"colorbar\": {\"outlinewidth\": 0, \"ticks\": \"\"}}, \"type\": \"scatterpolargl\"}], \"scatterternary\": [{\"marker\": {\"colorbar\": {\"outlinewidth\": 0, \"ticks\": \"\"}}, \"type\": \"scatterternary\"}], \"surface\": [{\"colorbar\": {\"outlinewidth\": 0, \"ticks\": \"\"}, \"colorscale\": [[0.0, \"#0d0887\"], [0.1111111111111111, \"#46039f\"], [0.2222222222222222, \"#7201a8\"], [0.3333333333333333, \"#9c179e\"], [0.4444444444444444, \"#bd3786\"], [0.5555555555555556, \"#d8576b\"], [0.6666666666666666, \"#ed7953\"], [0.7777777777777778, \"#fb9f3a\"], [0.8888888888888888, \"#fdca26\"], [1.0, \"#f0f921\"]], \"type\": \"surface\"}], \"table\": [{\"cells\": {\"fill\": {\"color\": \"#EBF0F8\"}, \"line\": {\"color\": \"white\"}}, \"header\": {\"fill\": {\"color\": \"#C8D4E3\"}, \"line\": {\"color\": \"white\"}}, \"type\": \"table\"}]}, \"layout\": {\"annotationdefaults\": {\"arrowcolor\": \"#2a3f5f\", \"arrowhead\": 0, \"arrowwidth\": 1}, \"coloraxis\": {\"colorbar\": {\"outlinewidth\": 0, \"ticks\": \"\"}}, \"colorscale\": {\"diverging\": [[0, \"#8e0152\"], [0.1, \"#c51b7d\"], [0.2, \"#de77ae\"], [0.3, \"#f1b6da\"], [0.4, \"#fde0ef\"], [0.5, \"#f7f7f7\"], [0.6, \"#e6f5d0\"], [0.7, \"#b8e186\"], [0.8, \"#7fbc41\"], [0.9, \"#4d9221\"], [1, \"#276419\"]], \"sequential\": [[0.0, \"#0d0887\"], [0.1111111111111111, \"#46039f\"], [0.2222222222222222, \"#7201a8\"], [0.3333333333333333, \"#9c179e\"], [0.4444444444444444, \"#bd3786\"], [0.5555555555555556, \"#d8576b\"], [0.6666666666666666, \"#ed7953\"], [0.7777777777777778, \"#fb9f3a\"], [0.8888888888888888, \"#fdca26\"], [1.0, \"#f0f921\"]], \"sequentialminus\": [[0.0, \"#0d0887\"], [0.1111111111111111, \"#46039f\"], [0.2222222222222222, \"#7201a8\"], [0.3333333333333333, \"#9c179e\"], [0.4444444444444444, \"#bd3786\"], [0.5555555555555556, \"#d8576b\"], [0.6666666666666666, \"#ed7953\"], [0.7777777777777778, \"#fb9f3a\"], [0.8888888888888888, \"#fdca26\"], [1.0, \"#f0f921\"]]}, \"colorway\": [\"#636efa\", \"#EF553B\", \"#00cc96\", \"#ab63fa\", \"#FFA15A\", \"#19d3f3\", \"#FF6692\", \"#B6E880\", \"#FF97FF\", \"#FECB52\"], \"font\": {\"color\": \"#2a3f5f\"}, \"geo\": {\"bgcolor\": \"white\", \"lakecolor\": \"white\", \"landcolor\": \"#E5ECF6\", \"showlakes\": true, \"showland\": true, \"subunitcolor\": \"white\"}, \"hoverlabel\": {\"align\": \"left\"}, \"hovermode\": \"closest\", \"mapbox\": {\"style\": \"light\"}, \"paper_bgcolor\": \"white\", \"plot_bgcolor\": \"#E5ECF6\", \"polar\": {\"angularaxis\": {\"gridcolor\": \"white\", \"linecolor\": \"white\", \"ticks\": \"\"}, \"bgcolor\": \"#E5ECF6\", \"radialaxis\": {\"gridcolor\": \"white\", \"linecolor\": \"white\", \"ticks\": \"\"}}, \"scene\": {\"xaxis\": {\"backgroundcolor\": \"#E5ECF6\", \"gridcolor\": \"white\", \"gridwidth\": 2, \"linecolor\": \"white\", \"showbackground\": true, \"ticks\": \"\", \"zerolinecolor\": \"white\"}, \"yaxis\": {\"backgroundcolor\": \"#E5ECF6\", \"gridcolor\": \"white\", \"gridwidth\": 2, \"linecolor\": \"white\", \"showbackground\": true, \"ticks\": \"\", \"zerolinecolor\": \"white\"}, \"zaxis\": {\"backgroundcolor\": \"#E5ECF6\", \"gridcolor\": \"white\", \"gridwidth\": 2, \"linecolor\": \"white\", \"showbackground\": true, \"ticks\": \"\", \"zerolinecolor\": \"white\"}}, \"shapedefaults\": {\"line\": {\"color\": \"#2a3f5f\"}}, \"ternary\": {\"aaxis\": {\"gridcolor\": \"white\", \"linecolor\": \"white\", \"ticks\": \"\"}, \"baxis\": {\"gridcolor\": \"white\", \"linecolor\": \"white\", \"ticks\": \"\"}, \"bgcolor\": \"#E5ECF6\", \"caxis\": {\"gridcolor\": \"white\", \"linecolor\": \"white\", \"ticks\": \"\"}}, \"title\": {\"x\": 0.05}, \"xaxis\": {\"automargin\": true, \"gridcolor\": \"white\", \"linecolor\": \"white\", \"ticks\": \"\", \"title\": {\"standoff\": 15}, \"zerolinecolor\": \"white\", \"zerolinewidth\": 2}, \"yaxis\": {\"automargin\": true, \"gridcolor\": \"white\", \"linecolor\": \"white\", \"ticks\": \"\", \"title\": {\"standoff\": 15}, \"zerolinecolor\": \"white\", \"zerolinewidth\": 2}}}},\n",
              "                        {\"responsive\": true}\n",
              "                    ).then(function(){\n",
              "                            \n",
              "var gd = document.getElementById('02ddc890-98e3-4905-a798-e9383a57f6cc');\n",
              "var x = new MutationObserver(function (mutations, observer) {{\n",
              "        var display = window.getComputedStyle(gd).display;\n",
              "        if (!display || display === 'none') {{\n",
              "            console.log([gd, 'removed!']);\n",
              "            Plotly.purge(gd);\n",
              "            observer.disconnect();\n",
              "        }}\n",
              "}});\n",
              "\n",
              "// Listen for the removal of the full notebook cells\n",
              "var notebookContainer = gd.closest('#notebook-container');\n",
              "if (notebookContainer) {{\n",
              "    x.observe(notebookContainer, {childList: true});\n",
              "}}\n",
              "\n",
              "// Listen for the clearing of the current output cell\n",
              "var outputEl = gd.closest('.output');\n",
              "if (outputEl) {{\n",
              "    x.observe(outputEl, {childList: true});\n",
              "}}\n",
              "\n",
              "                        })\n",
              "                };\n",
              "                \n",
              "            </script>\n",
              "        </div>\n",
              "</body>\n",
              "</html>"
            ]
          },
          "metadata": {
            "tags": []
          }
        }
      ]
    },
    {
      "cell_type": "code",
      "metadata": {
        "colab": {
          "base_uri": "https://localhost:8080/"
        },
        "id": "vF9xd2FIf-qR",
        "outputId": "ddb4d888-92cb-41c7-c8ea-af1083956205"
      },
      "source": [
        "Positive = Movies_Data[Movies_Data['Polarity_Rating'] == 'Positive']\n",
        "Negative = Movies_Data[Movies_Data['Polarity_Rating'] == 'Negative']\n",
        "\n",
        "print(Positive.shape)\n",
        "Negative.shape"
      ],
      "execution_count": 12,
      "outputs": [
        {
          "output_type": "stream",
          "text": [
            "(1206, 3)\n"
          ],
          "name": "stdout"
        },
        {
          "output_type": "execute_result",
          "data": {
            "text/plain": [
              "(1178, 3)"
            ]
          },
          "metadata": {
            "tags": []
          },
          "execution_count": 12
        }
      ]
    },
    {
      "cell_type": "code",
      "metadata": {
        "colab": {
          "base_uri": "https://localhost:8080/",
          "height": 419
        },
        "id": "lvv-T5ePgc0G",
        "outputId": "0723d399-338e-40af-9d20-6f3daaf74dae"
      },
      "source": [
        "df = Movies_Data[['Title','Polarity_Rating']]\n",
        "df"
      ],
      "execution_count": 13,
      "outputs": [
        {
          "output_type": "execute_result",
          "data": {
            "text/html": [
              "<div>\n",
              "<style scoped>\n",
              "    .dataframe tbody tr th:only-of-type {\n",
              "        vertical-align: middle;\n",
              "    }\n",
              "\n",
              "    .dataframe tbody tr th {\n",
              "        vertical-align: top;\n",
              "    }\n",
              "\n",
              "    .dataframe thead th {\n",
              "        text-align: right;\n",
              "    }\n",
              "</style>\n",
              "<table border=\"1\" class=\"dataframe\">\n",
              "  <thead>\n",
              "    <tr style=\"text-align: right;\">\n",
              "      <th></th>\n",
              "      <th>Title</th>\n",
              "      <th>Polarity_Rating</th>\n",
              "    </tr>\n",
              "  </thead>\n",
              "  <tbody>\n",
              "    <tr>\n",
              "      <th>389</th>\n",
              "      <td>Pulp Fiction</td>\n",
              "      <td>Positive</td>\n",
              "    </tr>\n",
              "    <tr>\n",
              "      <th>371</th>\n",
              "      <td>Schindler's List</td>\n",
              "      <td>Positive</td>\n",
              "    </tr>\n",
              "    <tr>\n",
              "      <th>1285</th>\n",
              "      <td>Inception</td>\n",
              "      <td>Positive</td>\n",
              "    </tr>\n",
              "    <tr>\n",
              "      <th>2651</th>\n",
              "      <td>Ani... Dr. Kashinath Ghanekar</td>\n",
              "      <td>Positive</td>\n",
              "    </tr>\n",
              "    <tr>\n",
              "      <th>598</th>\n",
              "      <td>Koshish</td>\n",
              "      <td>Positive</td>\n",
              "    </tr>\n",
              "    <tr>\n",
              "      <th>...</th>\n",
              "      <td>...</td>\n",
              "      <td>...</td>\n",
              "    </tr>\n",
              "    <tr>\n",
              "      <th>832</th>\n",
              "      <td>The Vault</td>\n",
              "      <td>Negative</td>\n",
              "    </tr>\n",
              "    <tr>\n",
              "      <th>571</th>\n",
              "      <td>Himmatwala</td>\n",
              "      <td>Negative</td>\n",
              "    </tr>\n",
              "    <tr>\n",
              "      <th>2175</th>\n",
              "      <td>Aerials</td>\n",
              "      <td>Negative</td>\n",
              "    </tr>\n",
              "    <tr>\n",
              "      <th>1189</th>\n",
              "      <td>Pink</td>\n",
              "      <td>Negative</td>\n",
              "    </tr>\n",
              "    <tr>\n",
              "      <th>1673</th>\n",
              "      <td>Welcome to New York</td>\n",
              "      <td>Negative</td>\n",
              "    </tr>\n",
              "  </tbody>\n",
              "</table>\n",
              "<p>2384 rows × 2 columns</p>\n",
              "</div>"
            ],
            "text/plain": [
              "                              Title Polarity_Rating\n",
              "389                    Pulp Fiction        Positive\n",
              "371                Schindler's List        Positive\n",
              "1285                      Inception        Positive\n",
              "2651  Ani... Dr. Kashinath Ghanekar        Positive\n",
              "598                         Koshish        Positive\n",
              "...                             ...             ...\n",
              "832                       The Vault        Negative\n",
              "571                      Himmatwala        Negative\n",
              "2175                        Aerials        Negative\n",
              "1189                           Pink        Negative\n",
              "1673            Welcome to New York        Negative\n",
              "\n",
              "[2384 rows x 2 columns]"
            ]
          },
          "metadata": {
            "tags": []
          },
          "execution_count": 13
        }
      ]
    },
    {
      "cell_type": "code",
      "metadata": {
        "colab": {
          "base_uri": "https://localhost:8080/",
          "height": 538
        },
        "id": "fPxQEnUqg42C",
        "outputId": "0d5f3141-b555-44c6-999d-a91d0df9411d"
      },
      "source": [
        "one_hot = pd.get_dummies(df[\"Polarity_Rating\"])\n",
        "df.drop(['Polarity_Rating'],axis=1,inplace=True)\n",
        "df = pd.concat([df,one_hot],axis=1)\n",
        "df"
      ],
      "execution_count": 14,
      "outputs": [
        {
          "output_type": "stream",
          "text": [
            "/usr/local/lib/python3.7/dist-packages/pandas/core/frame.py:4174: SettingWithCopyWarning:\n",
            "\n",
            "\n",
            "A value is trying to be set on a copy of a slice from a DataFrame\n",
            "\n",
            "See the caveats in the documentation: https://pandas.pydata.org/pandas-docs/stable/user_guide/indexing.html#returning-a-view-versus-a-copy\n",
            "\n"
          ],
          "name": "stderr"
        },
        {
          "output_type": "execute_result",
          "data": {
            "text/html": [
              "<div>\n",
              "<style scoped>\n",
              "    .dataframe tbody tr th:only-of-type {\n",
              "        vertical-align: middle;\n",
              "    }\n",
              "\n",
              "    .dataframe tbody tr th {\n",
              "        vertical-align: top;\n",
              "    }\n",
              "\n",
              "    .dataframe thead th {\n",
              "        text-align: right;\n",
              "    }\n",
              "</style>\n",
              "<table border=\"1\" class=\"dataframe\">\n",
              "  <thead>\n",
              "    <tr style=\"text-align: right;\">\n",
              "      <th></th>\n",
              "      <th>Title</th>\n",
              "      <th>Negative</th>\n",
              "      <th>Positive</th>\n",
              "    </tr>\n",
              "  </thead>\n",
              "  <tbody>\n",
              "    <tr>\n",
              "      <th>389</th>\n",
              "      <td>Pulp Fiction</td>\n",
              "      <td>0</td>\n",
              "      <td>1</td>\n",
              "    </tr>\n",
              "    <tr>\n",
              "      <th>371</th>\n",
              "      <td>Schindler's List</td>\n",
              "      <td>0</td>\n",
              "      <td>1</td>\n",
              "    </tr>\n",
              "    <tr>\n",
              "      <th>1285</th>\n",
              "      <td>Inception</td>\n",
              "      <td>0</td>\n",
              "      <td>1</td>\n",
              "    </tr>\n",
              "    <tr>\n",
              "      <th>2651</th>\n",
              "      <td>Ani... Dr. Kashinath Ghanekar</td>\n",
              "      <td>0</td>\n",
              "      <td>1</td>\n",
              "    </tr>\n",
              "    <tr>\n",
              "      <th>598</th>\n",
              "      <td>Koshish</td>\n",
              "      <td>0</td>\n",
              "      <td>1</td>\n",
              "    </tr>\n",
              "    <tr>\n",
              "      <th>...</th>\n",
              "      <td>...</td>\n",
              "      <td>...</td>\n",
              "      <td>...</td>\n",
              "    </tr>\n",
              "    <tr>\n",
              "      <th>832</th>\n",
              "      <td>The Vault</td>\n",
              "      <td>1</td>\n",
              "      <td>0</td>\n",
              "    </tr>\n",
              "    <tr>\n",
              "      <th>571</th>\n",
              "      <td>Himmatwala</td>\n",
              "      <td>1</td>\n",
              "      <td>0</td>\n",
              "    </tr>\n",
              "    <tr>\n",
              "      <th>2175</th>\n",
              "      <td>Aerials</td>\n",
              "      <td>1</td>\n",
              "      <td>0</td>\n",
              "    </tr>\n",
              "    <tr>\n",
              "      <th>1189</th>\n",
              "      <td>Pink</td>\n",
              "      <td>1</td>\n",
              "      <td>0</td>\n",
              "    </tr>\n",
              "    <tr>\n",
              "      <th>1673</th>\n",
              "      <td>Welcome to New York</td>\n",
              "      <td>1</td>\n",
              "      <td>0</td>\n",
              "    </tr>\n",
              "  </tbody>\n",
              "</table>\n",
              "<p>2384 rows × 3 columns</p>\n",
              "</div>"
            ],
            "text/plain": [
              "                              Title  Negative  Positive\n",
              "389                    Pulp Fiction         0         1\n",
              "371                Schindler's List         0         1\n",
              "1285                      Inception         0         1\n",
              "2651  Ani... Dr. Kashinath Ghanekar         0         1\n",
              "598                         Koshish         0         1\n",
              "...                             ...       ...       ...\n",
              "832                       The Vault         1         0\n",
              "571                      Himmatwala         1         0\n",
              "2175                        Aerials         1         0\n",
              "1189                           Pink         1         0\n",
              "1673            Welcome to New York         1         0\n",
              "\n",
              "[2384 rows x 3 columns]"
            ]
          },
          "metadata": {
            "tags": []
          },
          "execution_count": 14
        }
      ]
    },
    {
      "cell_type": "code",
      "metadata": {
        "id": "u9fh2aZThR8f"
      },
      "source": [
        "X = df['Title'].values\n",
        "y = df.drop('Title', axis=1).values\n",
        "X_train, X_test, y_train, y_test = train_test_split(X, y, test_size=0.10, random_state=42)"
      ],
      "execution_count": 15,
      "outputs": []
    },
    {
      "cell_type": "code",
      "metadata": {
        "colab": {
          "base_uri": "https://localhost:8080/"
        },
        "id": "O9uWTCy5hf7H",
        "outputId": "f5644038-24d6-4120-a7b9-02f87a83744b"
      },
      "source": [
        "X_train"
      ],
      "execution_count": 16,
      "outputs": [
        {
          "output_type": "execute_result",
          "data": {
            "text/plain": [
              "array(['Anchor and Hope', 'Kya Kehna', 'VS.', ..., 'Leap Year',\n",
              "       'The Breaker Upperers', 'The Rehearsal'], dtype=object)"
            ]
          },
          "metadata": {
            "tags": []
          },
          "execution_count": 16
        }
      ]
    },
    {
      "cell_type": "code",
      "metadata": {
        "colab": {
          "base_uri": "https://localhost:8080/"
        },
        "id": "_l2VZqe5hiMq",
        "outputId": "d0c2610d-cf0d-40f4-8171-2de8c7360c1c"
      },
      "source": [
        "y_train"
      ],
      "execution_count": 17,
      "outputs": [
        {
          "output_type": "execute_result",
          "data": {
            "text/plain": [
              "array([[0, 1],\n",
              "       [1, 0],\n",
              "       [1, 0],\n",
              "       ...,\n",
              "       [0, 1],\n",
              "       [1, 0],\n",
              "       [0, 1]], dtype=uint8)"
            ]
          },
          "metadata": {
            "tags": []
          },
          "execution_count": 17
        }
      ]
    },
    {
      "cell_type": "code",
      "metadata": {
        "id": "Kl0ROyGFhoN1"
      },
      "source": [
        "vect = CountVectorizer()\n",
        "X_train = vect.fit_transform(X_train)\n",
        "X_test = vect.transform(X_test)"
      ],
      "execution_count": 18,
      "outputs": []
    },
    {
      "cell_type": "code",
      "metadata": {
        "id": "QqTi6WrfhsXx"
      },
      "source": [
        "tfidf = TfidfTransformer()\n",
        "X_train = tfidf.fit_transform(X_train)\n",
        "X_test = tfidf.transform(X_test)\n",
        "X_train = X_train.toarray()\n",
        "X_test = X_test.toarray()"
      ],
      "execution_count": 19,
      "outputs": []
    },
    {
      "cell_type": "code",
      "metadata": {
        "id": "cN0rJulhhwYD"
      },
      "source": [
        "model = Sequential()\n",
        "\n",
        "model.add(Dense(units=12673,activation='relu'))\n",
        "model.add(Dropout(0.2))\n",
        "\n",
        "model.add(Dense(units=4000,activation='relu'))\n",
        "model.add(Dropout(0.2))\n",
        "\n",
        "model.add(Dense(units=500,activation='relu'))\n",
        "model.add(Dropout(0.2))\n",
        "\n",
        "model.add(Dense(units=2, activation='sigmoid'))\n",
        "\n",
        "opt=tf.keras.optimizers.Adam(learning_rate=0.001)\n",
        "model.compile(loss='categorical_crossentropy', optimizer=opt, metrics=['accuracy'])\n",
        "\n",
        "early_stop = EarlyStopping(monitor='val_loss', mode='min', verbose=1, patience=4)"
      ],
      "execution_count": 20,
      "outputs": []
    },
    {
      "cell_type": "code",
      "metadata": {
        "colab": {
          "base_uri": "https://localhost:8080/"
        },
        "id": "6N_azyO2h-dC",
        "outputId": "93942112-9ef3-446c-8479-a468f74b921c"
      },
      "source": [
        "model.fit(x=X_train, y=y_train, batch_size=100, epochs=50, validation_data=(X_test, y_test), verbose=1, callbacks=early_stop)"
      ],
      "execution_count": 21,
      "outputs": [
        {
          "output_type": "stream",
          "text": [
            "Epoch 1/50\n",
            "22/22 [==============================] - 3s 99ms/step - loss: 0.7028 - accuracy: 0.4935 - val_loss: 0.6825 - val_accuracy: 0.5732\n",
            "Epoch 2/50\n",
            "22/22 [==============================] - 1s 66ms/step - loss: 0.4824 - accuracy: 0.8616 - val_loss: 0.8491 - val_accuracy: 0.5481\n",
            "Epoch 3/50\n",
            "22/22 [==============================] - 1s 66ms/step - loss: 0.2254 - accuracy: 0.9119 - val_loss: 0.8811 - val_accuracy: 0.5983\n",
            "Epoch 4/50\n",
            "22/22 [==============================] - 1s 65ms/step - loss: 0.1648 - accuracy: 0.9181 - val_loss: 0.9695 - val_accuracy: 0.5774\n",
            "Epoch 5/50\n",
            "22/22 [==============================] - 1s 67ms/step - loss: 0.1425 - accuracy: 0.9171 - val_loss: 1.1013 - val_accuracy: 0.5607\n",
            "Epoch 00005: early stopping\n"
          ],
          "name": "stdout"
        },
        {
          "output_type": "execute_result",
          "data": {
            "text/plain": [
              "<tensorflow.python.keras.callbacks.History at 0x7f7a3056c590>"
            ]
          },
          "metadata": {
            "tags": []
          },
          "execution_count": 21
        }
      ]
    },
    {
      "cell_type": "code",
      "metadata": {
        "colab": {
          "base_uri": "https://localhost:8080/"
        },
        "id": "yS2nHIrNiPm8",
        "outputId": "c5880aed-1129-4363-c831-ca83b02e4968"
      },
      "source": [
        "model_score = model.evaluate(X_test, y_test, batch_size=64, verbose=1)\n",
        "print('Test accuracy:', model_score[1])"
      ],
      "execution_count": 22,
      "outputs": [
        {
          "output_type": "stream",
          "text": [
            "4/4 [==============================] - 0s 11ms/step - loss: 1.1013 - accuracy: 0.5607\n",
            "Test accuracy: 0.560669481754303\n"
          ],
          "name": "stdout"
        }
      ]
    },
    {
      "cell_type": "code",
      "metadata": {
        "colab": {
          "base_uri": "https://localhost:8080/"
        },
        "id": "XrDMBgVFiWNW",
        "outputId": "8589dea5-2552-43a9-f33e-0e63f4303171"
      },
      "source": [
        "preds = model.predict(X_test)\n",
        "preds"
      ],
      "execution_count": 23,
      "outputs": [
        {
          "output_type": "execute_result",
          "data": {
            "text/plain": [
              "array([[0.612349  , 0.4297736 ],\n",
              "       [0.9516913 , 0.13266265],\n",
              "       [0.53155893, 0.48956534],\n",
              "       [0.45316383, 0.5525985 ],\n",
              "       [0.5088444 , 0.5067268 ],\n",
              "       [0.5793237 , 0.45383412],\n",
              "       [0.55439496, 0.4650781 ],\n",
              "       [0.98941386, 0.05467955],\n",
              "       [0.07311551, 0.9345067 ],\n",
              "       [0.4814024 , 0.52648807],\n",
              "       [0.9474665 , 0.1392333 ],\n",
              "       [0.55439496, 0.4650781 ],\n",
              "       [0.9799033 , 0.07913845],\n",
              "       [0.52699864, 0.4961787 ],\n",
              "       [0.55439496, 0.4650781 ],\n",
              "       [0.43438452, 0.57018065],\n",
              "       [0.28018266, 0.7197895 ],\n",
              "       [0.55439496, 0.4650781 ],\n",
              "       [0.4691113 , 0.5379197 ],\n",
              "       [0.55439496, 0.4650781 ],\n",
              "       [0.09142755, 0.91636914],\n",
              "       [0.9188905 , 0.17938527],\n",
              "       [0.78312355, 0.31149566],\n",
              "       [0.55439496, 0.4650781 ],\n",
              "       [0.99752   , 0.02239846],\n",
              "       [0.99489474, 0.03455364],\n",
              "       [0.5639634 , 0.4654439 ],\n",
              "       [0.5271595 , 0.49476388],\n",
              "       [0.55439496, 0.4650781 ],\n",
              "       [0.5753001 , 0.46061176],\n",
              "       [0.968844  , 0.10195456],\n",
              "       [0.930252  , 0.16400172],\n",
              "       [0.24031165, 0.7626098 ],\n",
              "       [0.10410696, 0.9054942 ],\n",
              "       [0.9866529 , 0.06224809],\n",
              "       [0.2584007 , 0.7436948 ],\n",
              "       [0.5753001 , 0.46061176],\n",
              "       [0.5753001 , 0.46061176],\n",
              "       [0.55439496, 0.4650781 ],\n",
              "       [0.86272603, 0.24107456],\n",
              "       [0.99301225, 0.04184161],\n",
              "       [0.9870652 , 0.06059273],\n",
              "       [0.5753001 , 0.46061176],\n",
              "       [0.55439496, 0.4650781 ],\n",
              "       [0.4907482 , 0.5239258 ],\n",
              "       [0.55439496, 0.4650781 ],\n",
              "       [0.4183009 , 0.58094674],\n",
              "       [0.4566584 , 0.5506887 ],\n",
              "       [0.05295354, 0.95367324],\n",
              "       [0.55439496, 0.4650781 ],\n",
              "       [0.5753001 , 0.46061176],\n",
              "       [0.6774628 , 0.38529596],\n",
              "       [0.9798456 , 0.07967476],\n",
              "       [0.55698514, 0.47011474],\n",
              "       [0.56740886, 0.4593848 ],\n",
              "       [0.55439496, 0.4650781 ],\n",
              "       [0.06205749, 0.94464564],\n",
              "       [0.55439496, 0.4650781 ],\n",
              "       [0.1547259 , 0.85028094],\n",
              "       [0.99489474, 0.03455364],\n",
              "       [0.55439496, 0.4650781 ],\n",
              "       [0.18874328, 0.81437355],\n",
              "       [0.8974288 , 0.20730004],\n",
              "       [0.16387205, 0.84514046],\n",
              "       [0.5753001 , 0.46061176],\n",
              "       [0.5067251 , 0.50410473],\n",
              "       [0.41159704, 0.58594835],\n",
              "       [0.55439496, 0.4650781 ],\n",
              "       [0.5540886 , 0.47034907],\n",
              "       [0.127233  , 0.88145983],\n",
              "       [0.55439496, 0.4650781 ],\n",
              "       [0.07886893, 0.9291028 ],\n",
              "       [0.55439496, 0.4650781 ],\n",
              "       [0.9882929 , 0.05717305],\n",
              "       [0.55439496, 0.4650781 ],\n",
              "       [0.6753074 , 0.3851238 ],\n",
              "       [0.8328263 , 0.26892447],\n",
              "       [0.08208789, 0.9258047 ],\n",
              "       [0.89918166, 0.2002801 ],\n",
              "       [0.5502485 , 0.47624132],\n",
              "       [0.5539397 , 0.47296917],\n",
              "       [0.55439496, 0.4650781 ],\n",
              "       [0.954868  , 0.12853976],\n",
              "       [0.55439496, 0.4650781 ],\n",
              "       [0.8387827 , 0.26368186],\n",
              "       [0.07600766, 0.9317792 ],\n",
              "       [0.85180926, 0.2541486 ],\n",
              "       [0.9841967 , 0.06938675],\n",
              "       [0.70433843, 0.36685354],\n",
              "       [0.99279964, 0.04298388],\n",
              "       [0.9152921 , 0.18393698],\n",
              "       [0.4399275 , 0.55927545],\n",
              "       [0.9263312 , 0.17104611],\n",
              "       [0.98833674, 0.0574336 ],\n",
              "       [0.12880418, 0.87943363],\n",
              "       [0.99277955, 0.04337977],\n",
              "       [0.4680819 , 0.5417007 ],\n",
              "       [0.55439496, 0.4650781 ],\n",
              "       [0.5551615 , 0.47375846],\n",
              "       [0.9802802 , 0.078683  ],\n",
              "       [0.07031643, 0.93699896],\n",
              "       [0.9925735 , 0.04365328],\n",
              "       [0.9917121 , 0.04659642],\n",
              "       [0.10608286, 0.9019514 ],\n",
              "       [0.0918014 , 0.91603   ],\n",
              "       [0.5502485 , 0.47624132],\n",
              "       [0.9751422 , 0.09017979],\n",
              "       [0.03864594, 0.96665555],\n",
              "       [0.64445907, 0.40717682],\n",
              "       [0.55439496, 0.4650781 ],\n",
              "       [0.55439496, 0.4650781 ],\n",
              "       [0.07031471, 0.9370791 ],\n",
              "       [0.9337769 , 0.1593065 ],\n",
              "       [0.9880447 , 0.05856675],\n",
              "       [0.55439496, 0.4650781 ],\n",
              "       [0.9832144 , 0.07150359],\n",
              "       [0.06685419, 0.9405875 ],\n",
              "       [0.5753001 , 0.46061176],\n",
              "       [0.9904349 , 0.05064469],\n",
              "       [0.07652745, 0.93078464],\n",
              "       [0.03940586, 0.96614134],\n",
              "       [0.5351454 , 0.48591122],\n",
              "       [0.44990903, 0.5544898 ],\n",
              "       [0.671017  , 0.38790512],\n",
              "       [0.41159704, 0.58594835],\n",
              "       [0.55439496, 0.4650781 ],\n",
              "       [0.9758918 , 0.08829591],\n",
              "       [0.8536578 , 0.25314602],\n",
              "       [0.55439496, 0.4650781 ],\n",
              "       [0.06037853, 0.9460919 ],\n",
              "       [0.59747905, 0.43617707],\n",
              "       [0.16886224, 0.8386305 ],\n",
              "       [0.90843195, 0.19249584],\n",
              "       [0.03797665, 0.96725154],\n",
              "       [0.8308377 , 0.27348182],\n",
              "       [0.55439496, 0.4650781 ],\n",
              "       [0.55439496, 0.4650781 ],\n",
              "       [0.99510336, 0.03392956],\n",
              "       [0.03346618, 0.971347  ],\n",
              "       [0.05000063, 0.9560263 ],\n",
              "       [0.55439496, 0.4650781 ],\n",
              "       [0.69929636, 0.37104532],\n",
              "       [0.55439496, 0.4650781 ],\n",
              "       [0.55439496, 0.4650781 ],\n",
              "       [0.55439496, 0.4650781 ],\n",
              "       [0.8532478 , 0.24899743],\n",
              "       [0.55439496, 0.4650781 ],\n",
              "       [0.61640507, 0.42542368],\n",
              "       [0.5753001 , 0.46061176],\n",
              "       [0.10921393, 0.899533  ],\n",
              "       [0.55439496, 0.4650781 ],\n",
              "       [0.9875525 , 0.05942255],\n",
              "       [0.5753001 , 0.46061176],\n",
              "       [0.5236898 , 0.4986057 ],\n",
              "       [0.5502485 , 0.47624132],\n",
              "       [0.55439496, 0.4650781 ],\n",
              "       [0.55439496, 0.4650781 ],\n",
              "       [0.5753001 , 0.46061176],\n",
              "       [0.5753001 , 0.46061176],\n",
              "       [0.18357004, 0.8250598 ],\n",
              "       [0.6978175 , 0.37012017],\n",
              "       [0.07622847, 0.9310494 ],\n",
              "       [0.49983388, 0.51515526],\n",
              "       [0.9862109 , 0.06220688],\n",
              "       [0.55439496, 0.4650781 ],\n",
              "       [0.8931036 , 0.20959415],\n",
              "       [0.55439496, 0.4650781 ],\n",
              "       [0.55439496, 0.4650781 ],\n",
              "       [0.99752   , 0.02239846],\n",
              "       [0.15863217, 0.84918904],\n",
              "       [0.2287727 , 0.77380574],\n",
              "       [0.5753001 , 0.46061176],\n",
              "       [0.55439496, 0.4650781 ],\n",
              "       [0.55439496, 0.4650781 ],\n",
              "       [0.4566584 , 0.5506887 ],\n",
              "       [0.55439496, 0.4650781 ],\n",
              "       [0.09271475, 0.9152826 ],\n",
              "       [0.55439496, 0.4650781 ],\n",
              "       [0.53155893, 0.48956534],\n",
              "       [0.5753001 , 0.46061176],\n",
              "       [0.55439496, 0.4650781 ],\n",
              "       [0.9901731 , 0.05152879],\n",
              "       [0.4680819 , 0.5417007 ],\n",
              "       [0.06785328, 0.9395479 ],\n",
              "       [0.9832154 , 0.0707601 ],\n",
              "       [0.98673135, 0.06190511],\n",
              "       [0.55439496, 0.4650781 ],\n",
              "       [0.1547259 , 0.85028094],\n",
              "       [0.5455244 , 0.48016745],\n",
              "       [0.5717075 , 0.45815754],\n",
              "       [0.4566584 , 0.5506887 ],\n",
              "       [0.9671166 , 0.10560257],\n",
              "       [0.7393012 , 0.33978638],\n",
              "       [0.87915015, 0.22398177],\n",
              "       [0.55439496, 0.4650781 ],\n",
              "       [0.55439496, 0.4650781 ],\n",
              "       [0.56703967, 0.46147522],\n",
              "       [0.55439496, 0.4650781 ],\n",
              "       [0.48499903, 0.524653  ],\n",
              "       [0.56644994, 0.45944685],\n",
              "       [0.5753001 , 0.46061176],\n",
              "       [0.09538828, 0.91249186],\n",
              "       [0.87463665, 0.229907  ],\n",
              "       [0.3829199 , 0.6141235 ],\n",
              "       [0.49109066, 0.5207727 ],\n",
              "       [0.5114286 , 0.5042383 ],\n",
              "       [0.97741914, 0.08503447],\n",
              "       [0.07437766, 0.9337508 ],\n",
              "       [0.5051806 , 0.5098462 ],\n",
              "       [0.28957728, 0.7102552 ],\n",
              "       [0.77996475, 0.3130109 ],\n",
              "       [0.04577603, 0.9601273 ],\n",
              "       [0.5753001 , 0.46061176],\n",
              "       [0.07971984, 0.9281965 ],\n",
              "       [0.55439496, 0.4650781 ],\n",
              "       [0.5116284 , 0.50257766],\n",
              "       [0.63284475, 0.41295242],\n",
              "       [0.5749245 , 0.4538737 ],\n",
              "       [0.55439496, 0.4650781 ],\n",
              "       [0.55439496, 0.4650781 ],\n",
              "       [0.600635  , 0.43947986],\n",
              "       [0.49885893, 0.5152805 ],\n",
              "       [0.55439496, 0.4650781 ],\n",
              "       [0.9114278 , 0.1866996 ],\n",
              "       [0.55439496, 0.4650781 ],\n",
              "       [0.4814024 , 0.52648807],\n",
              "       [0.55439496, 0.4650781 ],\n",
              "       [0.55439496, 0.4650781 ],\n",
              "       [0.9755339 , 0.08904478],\n",
              "       [0.4038746 , 0.59439766],\n",
              "       [0.95810777, 0.12247868],\n",
              "       [0.55439496, 0.4650781 ],\n",
              "       [0.55439496, 0.4650781 ],\n",
              "       [0.55439496, 0.4650781 ],\n",
              "       [0.9987562 , 0.01436242],\n",
              "       [0.3806284 , 0.6174025 ],\n",
              "       [0.4445728 , 0.55676484],\n",
              "       [0.55439496, 0.4650781 ],\n",
              "       [0.97590363, 0.08794455]], dtype=float32)"
            ]
          },
          "metadata": {
            "tags": []
          },
          "execution_count": 23
        }
      ]
    }
  ]
}