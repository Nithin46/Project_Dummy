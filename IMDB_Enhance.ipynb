{
  "nbformat": 4,
  "nbformat_minor": 0,
  "metadata": {
    "colab": {
      "name": "IMDB Enhance.ipynb",
      "provenance": [],
      "collapsed_sections": [],
      "mount_file_id": "1mJw3klDa-f33rhk6k9RaxpdNH4D-TUxQ",
      "authorship_tag": "ABX9TyNBhK1UTspt6TFDvNR03erC",
      "include_colab_link": true
    },
    "kernelspec": {
      "name": "python3",
      "display_name": "Python 3"
    },
    "language_info": {
      "name": "python"
    },
    "accelerator": "GPU"
  },
  "cells": [
    {
      "cell_type": "markdown",
      "metadata": {
        "id": "view-in-github",
        "colab_type": "text"
      },
      "source": [
        "<a href=\"https://colab.research.google.com/github/Nithin46/Project_Dummy/blob/main/IMDB_Enhance.ipynb\" target=\"_parent\"><img src=\"https://colab.research.google.com/assets/colab-badge.svg\" alt=\"Open In Colab\"/></a>"
      ]
    },
    {
      "cell_type": "code",
      "metadata": {
        "id": "IFLJf617Oflp"
      },
      "source": [
        "import pandas as pd\n",
        "import numpy as np\n",
        "import plotly.express as px\n",
        "\n",
        "import matplotlib.pyplot as plt\n",
        "\n",
        "from sklearn.model_selection import train_test_split\n",
        "from sklearn.feature_extraction.text import CountVectorizer\n",
        "from sklearn.feature_extraction.text import TfidfTransformer\n",
        "\n",
        "import tensorflow as tf\n",
        "from tensorflow.keras.models import Sequential\n",
        "from tensorflow.keras.layers import Dense, Activation, Dropout\n",
        "from tensorflow.keras.callbacks import EarlyStopping"
      ],
      "execution_count": 69,
      "outputs": []
    },
    {
      "cell_type": "code",
      "metadata": {
        "colab": {
          "base_uri": "https://localhost:8080/",
          "height": 244
        },
        "id": "OflfcXO-PKoi",
        "outputId": "305780ba-9cb3-41db-de15-f84246275b42"
      },
      "source": [
        "Net = pd.read_csv('/content/drive/MyDrive/Colab Notebooks/Project/netflix_titles.csv', low_memory=False)\n",
        "Net.head(3)"
      ],
      "execution_count": 70,
      "outputs": [
        {
          "output_type": "execute_result",
          "data": {
            "text/html": [
              "<div>\n",
              "<style scoped>\n",
              "    .dataframe tbody tr th:only-of-type {\n",
              "        vertical-align: middle;\n",
              "    }\n",
              "\n",
              "    .dataframe tbody tr th {\n",
              "        vertical-align: top;\n",
              "    }\n",
              "\n",
              "    .dataframe thead th {\n",
              "        text-align: right;\n",
              "    }\n",
              "</style>\n",
              "<table border=\"1\" class=\"dataframe\">\n",
              "  <thead>\n",
              "    <tr style=\"text-align: right;\">\n",
              "      <th></th>\n",
              "      <th>show_id</th>\n",
              "      <th>type</th>\n",
              "      <th>title</th>\n",
              "      <th>director</th>\n",
              "      <th>cast</th>\n",
              "      <th>country</th>\n",
              "      <th>date_added</th>\n",
              "      <th>release_year</th>\n",
              "      <th>rating</th>\n",
              "      <th>duration</th>\n",
              "      <th>listed_in</th>\n",
              "      <th>description</th>\n",
              "    </tr>\n",
              "  </thead>\n",
              "  <tbody>\n",
              "    <tr>\n",
              "      <th>0</th>\n",
              "      <td>s1</td>\n",
              "      <td>TV Show</td>\n",
              "      <td>3%</td>\n",
              "      <td>NaN</td>\n",
              "      <td>João Miguel, Bianca Comparato, Michel Gomes, R...</td>\n",
              "      <td>Brazil</td>\n",
              "      <td>14-Aug-20</td>\n",
              "      <td>2020</td>\n",
              "      <td>TV-MA</td>\n",
              "      <td>4 Seasons</td>\n",
              "      <td>International TV Shows, TV Dramas, TV Sci-Fi &amp;...</td>\n",
              "      <td>In a future where the elite inhabit an island ...</td>\n",
              "    </tr>\n",
              "    <tr>\n",
              "      <th>1</th>\n",
              "      <td>s2</td>\n",
              "      <td>Movie</td>\n",
              "      <td>7:19</td>\n",
              "      <td>Jorge Michel Grau</td>\n",
              "      <td>Demián Bichir, Héctor Bonilla, Oscar Serrano, ...</td>\n",
              "      <td>Mexico</td>\n",
              "      <td>23-Dec-16</td>\n",
              "      <td>2016</td>\n",
              "      <td>TV-MA</td>\n",
              "      <td>93 min</td>\n",
              "      <td>Dramas, International Movies</td>\n",
              "      <td>After a devastating earthquake hits Mexico Cit...</td>\n",
              "    </tr>\n",
              "    <tr>\n",
              "      <th>2</th>\n",
              "      <td>s3</td>\n",
              "      <td>Movie</td>\n",
              "      <td>23:59</td>\n",
              "      <td>Gilbert Chan</td>\n",
              "      <td>Tedd Chan, Stella Chung, Henley Hii, Lawrence ...</td>\n",
              "      <td>Singapore</td>\n",
              "      <td>20-Dec-18</td>\n",
              "      <td>2011</td>\n",
              "      <td>R</td>\n",
              "      <td>78 min</td>\n",
              "      <td>Horror Movies, International Movies</td>\n",
              "      <td>When an army recruit is found dead, his fellow...</td>\n",
              "    </tr>\n",
              "  </tbody>\n",
              "</table>\n",
              "</div>"
            ],
            "text/plain": [
              "  show_id  ...                                        description\n",
              "0      s1  ...  In a future where the elite inhabit an island ...\n",
              "1      s2  ...  After a devastating earthquake hits Mexico Cit...\n",
              "2      s3  ...  When an army recruit is found dead, his fellow...\n",
              "\n",
              "[3 rows x 12 columns]"
            ]
          },
          "metadata": {
            "tags": []
          },
          "execution_count": 70
        }
      ]
    },
    {
      "cell_type": "code",
      "metadata": {
        "colab": {
          "base_uri": "https://localhost:8080/",
          "height": 417
        },
        "id": "IS4TmddSQFhq",
        "outputId": "39f02389-a1f0-4f6f-8f27-2d096a618f51"
      },
      "source": [
        "IMDB = pd.read_csv('/content/drive/MyDrive/Colab Notebooks/Project/IMDb movies.csv',low_memory=False)\n",
        "IMDB.head(3)"
      ],
      "execution_count": 71,
      "outputs": [
        {
          "output_type": "execute_result",
          "data": {
            "text/html": [
              "<div>\n",
              "<style scoped>\n",
              "    .dataframe tbody tr th:only-of-type {\n",
              "        vertical-align: middle;\n",
              "    }\n",
              "\n",
              "    .dataframe tbody tr th {\n",
              "        vertical-align: top;\n",
              "    }\n",
              "\n",
              "    .dataframe thead th {\n",
              "        text-align: right;\n",
              "    }\n",
              "</style>\n",
              "<table border=\"1\" class=\"dataframe\">\n",
              "  <thead>\n",
              "    <tr style=\"text-align: right;\">\n",
              "      <th></th>\n",
              "      <th>imdb_title_id</th>\n",
              "      <th>title</th>\n",
              "      <th>original_title</th>\n",
              "      <th>year</th>\n",
              "      <th>date_published</th>\n",
              "      <th>genre</th>\n",
              "      <th>duration</th>\n",
              "      <th>country</th>\n",
              "      <th>language</th>\n",
              "      <th>director</th>\n",
              "      <th>writer</th>\n",
              "      <th>production_company</th>\n",
              "      <th>actors</th>\n",
              "      <th>description</th>\n",
              "      <th>avg_vote</th>\n",
              "      <th>votes</th>\n",
              "      <th>budget</th>\n",
              "      <th>usa_gross_income</th>\n",
              "      <th>worlwide_gross_income</th>\n",
              "      <th>metascore</th>\n",
              "      <th>reviews_from_users</th>\n",
              "      <th>reviews_from_critics</th>\n",
              "    </tr>\n",
              "  </thead>\n",
              "  <tbody>\n",
              "    <tr>\n",
              "      <th>0</th>\n",
              "      <td>tt0000009</td>\n",
              "      <td>Miss Jerry</td>\n",
              "      <td>Miss Jerry</td>\n",
              "      <td>1894</td>\n",
              "      <td>1894-10-09</td>\n",
              "      <td>Romance</td>\n",
              "      <td>45</td>\n",
              "      <td>USA</td>\n",
              "      <td>None</td>\n",
              "      <td>Alexander Black</td>\n",
              "      <td>Alexander Black</td>\n",
              "      <td>Alexander Black Photoplays</td>\n",
              "      <td>Blanche Bayliss, William Courtenay, Chauncey D...</td>\n",
              "      <td>The adventures of a female reporter in the 1890s.</td>\n",
              "      <td>5.9</td>\n",
              "      <td>154</td>\n",
              "      <td>NaN</td>\n",
              "      <td>NaN</td>\n",
              "      <td>NaN</td>\n",
              "      <td>NaN</td>\n",
              "      <td>1.0</td>\n",
              "      <td>2.0</td>\n",
              "    </tr>\n",
              "    <tr>\n",
              "      <th>1</th>\n",
              "      <td>tt0000574</td>\n",
              "      <td>The Story of the Kelly Gang</td>\n",
              "      <td>The Story of the Kelly Gang</td>\n",
              "      <td>1906</td>\n",
              "      <td>1906-12-26</td>\n",
              "      <td>Biography, Crime, Drama</td>\n",
              "      <td>70</td>\n",
              "      <td>Australia</td>\n",
              "      <td>None</td>\n",
              "      <td>Charles Tait</td>\n",
              "      <td>Charles Tait</td>\n",
              "      <td>J. and N. Tait</td>\n",
              "      <td>Elizabeth Tait, John Tait, Norman Campbell, Be...</td>\n",
              "      <td>True story of notorious Australian outlaw Ned ...</td>\n",
              "      <td>6.1</td>\n",
              "      <td>589</td>\n",
              "      <td>$ 2250</td>\n",
              "      <td>NaN</td>\n",
              "      <td>NaN</td>\n",
              "      <td>NaN</td>\n",
              "      <td>7.0</td>\n",
              "      <td>7.0</td>\n",
              "    </tr>\n",
              "    <tr>\n",
              "      <th>2</th>\n",
              "      <td>tt0001892</td>\n",
              "      <td>Den sorte drøm</td>\n",
              "      <td>Den sorte drøm</td>\n",
              "      <td>1911</td>\n",
              "      <td>1911-08-19</td>\n",
              "      <td>Drama</td>\n",
              "      <td>53</td>\n",
              "      <td>Germany, Denmark</td>\n",
              "      <td>NaN</td>\n",
              "      <td>Urban Gad</td>\n",
              "      <td>Urban Gad, Gebhard Schätzler-Perasini</td>\n",
              "      <td>Fotorama</td>\n",
              "      <td>Asta Nielsen, Valdemar Psilander, Gunnar Helse...</td>\n",
              "      <td>Two men of high rank are both wooing the beaut...</td>\n",
              "      <td>5.8</td>\n",
              "      <td>188</td>\n",
              "      <td>NaN</td>\n",
              "      <td>NaN</td>\n",
              "      <td>NaN</td>\n",
              "      <td>NaN</td>\n",
              "      <td>5.0</td>\n",
              "      <td>2.0</td>\n",
              "    </tr>\n",
              "  </tbody>\n",
              "</table>\n",
              "</div>"
            ],
            "text/plain": [
              "  imdb_title_id  ... reviews_from_critics\n",
              "0     tt0000009  ...                  2.0\n",
              "1     tt0000574  ...                  7.0\n",
              "2     tt0001892  ...                  2.0\n",
              "\n",
              "[3 rows x 22 columns]"
            ]
          },
          "metadata": {
            "tags": []
          },
          "execution_count": 71
        }
      ]
    },
    {
      "cell_type": "code",
      "metadata": {
        "colab": {
          "base_uri": "https://localhost:8080/",
          "height": 221
        },
        "id": "ItlYhJ85QZs7",
        "outputId": "cd6d9c84-9262-4877-8a6e-484c09aa3d7d"
      },
      "source": [
        "new_ratings = pd.DataFrame({'Title':IMDB.title,\n",
        "                    'Rating': IMDB.avg_vote})\n",
        "\n",
        "new_ratings.drop_duplicates(subset=['Title', 'Rating'], inplace=True)\n",
        "\n",
        "print(new_ratings.shape)\n",
        "new_ratings.head(5)"
      ],
      "execution_count": 72,
      "outputs": [
        {
          "output_type": "stream",
          "text": [
            "(85733, 2)\n"
          ],
          "name": "stdout"
        },
        {
          "output_type": "execute_result",
          "data": {
            "text/html": [
              "<div>\n",
              "<style scoped>\n",
              "    .dataframe tbody tr th:only-of-type {\n",
              "        vertical-align: middle;\n",
              "    }\n",
              "\n",
              "    .dataframe tbody tr th {\n",
              "        vertical-align: top;\n",
              "    }\n",
              "\n",
              "    .dataframe thead th {\n",
              "        text-align: right;\n",
              "    }\n",
              "</style>\n",
              "<table border=\"1\" class=\"dataframe\">\n",
              "  <thead>\n",
              "    <tr style=\"text-align: right;\">\n",
              "      <th></th>\n",
              "      <th>Title</th>\n",
              "      <th>Rating</th>\n",
              "    </tr>\n",
              "  </thead>\n",
              "  <tbody>\n",
              "    <tr>\n",
              "      <th>0</th>\n",
              "      <td>Miss Jerry</td>\n",
              "      <td>5.9</td>\n",
              "    </tr>\n",
              "    <tr>\n",
              "      <th>1</th>\n",
              "      <td>The Story of the Kelly Gang</td>\n",
              "      <td>6.1</td>\n",
              "    </tr>\n",
              "    <tr>\n",
              "      <th>2</th>\n",
              "      <td>Den sorte drøm</td>\n",
              "      <td>5.8</td>\n",
              "    </tr>\n",
              "    <tr>\n",
              "      <th>3</th>\n",
              "      <td>Cleopatra</td>\n",
              "      <td>5.2</td>\n",
              "    </tr>\n",
              "    <tr>\n",
              "      <th>4</th>\n",
              "      <td>L'Inferno</td>\n",
              "      <td>7.0</td>\n",
              "    </tr>\n",
              "  </tbody>\n",
              "</table>\n",
              "</div>"
            ],
            "text/plain": [
              "                         Title  Rating\n",
              "0                   Miss Jerry     5.9\n",
              "1  The Story of the Kelly Gang     6.1\n",
              "2               Den sorte drøm     5.8\n",
              "3                    Cleopatra     5.2\n",
              "4                    L'Inferno     7.0"
            ]
          },
          "metadata": {
            "tags": []
          },
          "execution_count": 72
        }
      ]
    },
    {
      "cell_type": "code",
      "metadata": {
        "colab": {
          "base_uri": "https://localhost:8080/",
          "height": 544
        },
        "id": "MRX_FgWiQuO8",
        "outputId": "db03ef70-c33c-4e01-f9ee-e4d4c2274ed8"
      },
      "source": [
        "Inner_join_data = new_ratings.merge(Net,left_on='Title', right_on='title', how='inner')\n",
        "Inner_join_data=Inner_join_data.sort_values(by='Rating', ascending=False)\n",
        "\n",
        "print(Inner_join_data.shape)\n",
        "Inner_join_data.head(5)"
      ],
      "execution_count": 73,
      "outputs": [
        {
          "output_type": "stream",
          "text": [
            "(2721, 14)\n"
          ],
          "name": "stdout"
        },
        {
          "output_type": "execute_result",
          "data": {
            "text/html": [
              "<div>\n",
              "<style scoped>\n",
              "    .dataframe tbody tr th:only-of-type {\n",
              "        vertical-align: middle;\n",
              "    }\n",
              "\n",
              "    .dataframe tbody tr th {\n",
              "        vertical-align: top;\n",
              "    }\n",
              "\n",
              "    .dataframe thead th {\n",
              "        text-align: right;\n",
              "    }\n",
              "</style>\n",
              "<table border=\"1\" class=\"dataframe\">\n",
              "  <thead>\n",
              "    <tr style=\"text-align: right;\">\n",
              "      <th></th>\n",
              "      <th>Title</th>\n",
              "      <th>Rating</th>\n",
              "      <th>show_id</th>\n",
              "      <th>type</th>\n",
              "      <th>title</th>\n",
              "      <th>director</th>\n",
              "      <th>cast</th>\n",
              "      <th>country</th>\n",
              "      <th>date_added</th>\n",
              "      <th>release_year</th>\n",
              "      <th>rating</th>\n",
              "      <th>duration</th>\n",
              "      <th>listed_in</th>\n",
              "      <th>description</th>\n",
              "    </tr>\n",
              "  </thead>\n",
              "  <tbody>\n",
              "    <tr>\n",
              "      <th>977</th>\n",
              "      <td>Innocent</td>\n",
              "      <td>9.0</td>\n",
              "      <td>s3009</td>\n",
              "      <td>TV Show</td>\n",
              "      <td>Innocent</td>\n",
              "      <td>Seren Yüce</td>\n",
              "      <td>Ali Atay, Haluk Bilginer, Nur Sürer, Okan Yala...</td>\n",
              "      <td>Turkey</td>\n",
              "      <td>23-Jan-19</td>\n",
              "      <td>2017</td>\n",
              "      <td>TV-MA</td>\n",
              "      <td>1 Season</td>\n",
              "      <td>Crime TV Shows, International TV Shows, TV Dramas</td>\n",
              "      <td>In a peaceful, rustic town, a retired officer ...</td>\n",
              "    </tr>\n",
              "    <tr>\n",
              "      <th>988</th>\n",
              "      <td>Breakout</td>\n",
              "      <td>9.0</td>\n",
              "      <td>s1093</td>\n",
              "      <td>TV Show</td>\n",
              "      <td>Breakout</td>\n",
              "      <td>NaN</td>\n",
              "      <td>Jeanette Aw, Elvin Ng, Zhou Ying, Christopher ...</td>\n",
              "      <td>NaN</td>\n",
              "      <td>1-Jul-17</td>\n",
              "      <td>2010</td>\n",
              "      <td>TV-14</td>\n",
              "      <td>1 Season</td>\n",
              "      <td>International TV Shows, TV Dramas</td>\n",
              "      <td>After losing her family in a suspicious car cr...</td>\n",
              "    </tr>\n",
              "    <tr>\n",
              "      <th>389</th>\n",
              "      <td>Pulp Fiction</td>\n",
              "      <td>8.9</td>\n",
              "      <td>s5003</td>\n",
              "      <td>Movie</td>\n",
              "      <td>Pulp Fiction</td>\n",
              "      <td>Quentin Tarantino</td>\n",
              "      <td>John Travolta, Samuel L. Jackson, Uma Thurman,...</td>\n",
              "      <td>United States</td>\n",
              "      <td>1-Jan-19</td>\n",
              "      <td>1994</td>\n",
              "      <td>R</td>\n",
              "      <td>154 min</td>\n",
              "      <td>Classic Movies, Cult Movies, Dramas</td>\n",
              "      <td>This stylized crime caper weaves together stor...</td>\n",
              "    </tr>\n",
              "    <tr>\n",
              "      <th>371</th>\n",
              "      <td>Schindler's List</td>\n",
              "      <td>8.9</td>\n",
              "      <td>s5431</td>\n",
              "      <td>Movie</td>\n",
              "      <td>Schindler's List</td>\n",
              "      <td>Steven Spielberg</td>\n",
              "      <td>Liam Neeson, Ben Kingsley, Ralph Fiennes, Caro...</td>\n",
              "      <td>United States</td>\n",
              "      <td>1-Apr-18</td>\n",
              "      <td>1993</td>\n",
              "      <td>R</td>\n",
              "      <td>195 min</td>\n",
              "      <td>Classic Movies, Dramas</td>\n",
              "      <td>Oskar Schindler becomes an unlikely humanitari...</td>\n",
              "    </tr>\n",
              "    <tr>\n",
              "      <th>1285</th>\n",
              "      <td>Inception</td>\n",
              "      <td>8.8</td>\n",
              "      <td>s2980</td>\n",
              "      <td>Movie</td>\n",
              "      <td>Inception</td>\n",
              "      <td>Christopher Nolan</td>\n",
              "      <td>Leonardo DiCaprio, Joseph Gordon-Levitt, Ellen...</td>\n",
              "      <td>United States, United Kingdom</td>\n",
              "      <td>1-Jan-20</td>\n",
              "      <td>2010</td>\n",
              "      <td>PG-13</td>\n",
              "      <td>148 min</td>\n",
              "      <td>Action &amp; Adventure, Sci-Fi &amp; Fantasy, Thrillers</td>\n",
              "      <td>In this mind-bending sci-fi thriller, a man ru...</td>\n",
              "    </tr>\n",
              "  </tbody>\n",
              "</table>\n",
              "</div>"
            ],
            "text/plain": [
              "                 Title  ...                                        description\n",
              "977           Innocent  ...  In a peaceful, rustic town, a retired officer ...\n",
              "988           Breakout  ...  After losing her family in a suspicious car cr...\n",
              "389       Pulp Fiction  ...  This stylized crime caper weaves together stor...\n",
              "371   Schindler's List  ...  Oskar Schindler becomes an unlikely humanitari...\n",
              "1285         Inception  ...  In this mind-bending sci-fi thriller, a man ru...\n",
              "\n",
              "[5 rows x 14 columns]"
            ]
          },
          "metadata": {
            "tags": []
          },
          "execution_count": 73
        }
      ]
    },
    {
      "cell_type": "code",
      "metadata": {
        "colab": {
          "base_uri": "https://localhost:8080/",
          "height": 340
        },
        "id": "2PeT1voRRgEU",
        "outputId": "e110cfa2-3369-417e-d67c-f84a3b0f645e"
      },
      "source": [
        "New_Data = Inner_join_data[['Title', 'Rating', 'type']]\n",
        "\n",
        "New_Data.drop_duplicates(subset=['Title','Rating', 'type'], inplace=True)\n",
        "print(New_Data.shape)\n",
        "New_Data.head(5)"
      ],
      "execution_count": 75,
      "outputs": [
        {
          "output_type": "stream",
          "text": [
            "(2721, 3)\n"
          ],
          "name": "stdout"
        },
        {
          "output_type": "stream",
          "text": [
            "/usr/local/lib/python3.7/dist-packages/ipykernel_launcher.py:3: SettingWithCopyWarning:\n",
            "\n",
            "\n",
            "A value is trying to be set on a copy of a slice from a DataFrame\n",
            "\n",
            "See the caveats in the documentation: https://pandas.pydata.org/pandas-docs/stable/user_guide/indexing.html#returning-a-view-versus-a-copy\n",
            "\n"
          ],
          "name": "stderr"
        },
        {
          "output_type": "execute_result",
          "data": {
            "text/html": [
              "<div>\n",
              "<style scoped>\n",
              "    .dataframe tbody tr th:only-of-type {\n",
              "        vertical-align: middle;\n",
              "    }\n",
              "\n",
              "    .dataframe tbody tr th {\n",
              "        vertical-align: top;\n",
              "    }\n",
              "\n",
              "    .dataframe thead th {\n",
              "        text-align: right;\n",
              "    }\n",
              "</style>\n",
              "<table border=\"1\" class=\"dataframe\">\n",
              "  <thead>\n",
              "    <tr style=\"text-align: right;\">\n",
              "      <th></th>\n",
              "      <th>Title</th>\n",
              "      <th>Rating</th>\n",
              "      <th>type</th>\n",
              "    </tr>\n",
              "  </thead>\n",
              "  <tbody>\n",
              "    <tr>\n",
              "      <th>977</th>\n",
              "      <td>Innocent</td>\n",
              "      <td>9.0</td>\n",
              "      <td>TV Show</td>\n",
              "    </tr>\n",
              "    <tr>\n",
              "      <th>988</th>\n",
              "      <td>Breakout</td>\n",
              "      <td>9.0</td>\n",
              "      <td>TV Show</td>\n",
              "    </tr>\n",
              "    <tr>\n",
              "      <th>389</th>\n",
              "      <td>Pulp Fiction</td>\n",
              "      <td>8.9</td>\n",
              "      <td>Movie</td>\n",
              "    </tr>\n",
              "    <tr>\n",
              "      <th>371</th>\n",
              "      <td>Schindler's List</td>\n",
              "      <td>8.9</td>\n",
              "      <td>Movie</td>\n",
              "    </tr>\n",
              "    <tr>\n",
              "      <th>1285</th>\n",
              "      <td>Inception</td>\n",
              "      <td>8.8</td>\n",
              "      <td>Movie</td>\n",
              "    </tr>\n",
              "  </tbody>\n",
              "</table>\n",
              "</div>"
            ],
            "text/plain": [
              "                 Title  Rating     type\n",
              "977           Innocent     9.0  TV Show\n",
              "988           Breakout     9.0  TV Show\n",
              "389       Pulp Fiction     8.9    Movie\n",
              "371   Schindler's List     8.9    Movie\n",
              "1285         Inception     8.8    Movie"
            ]
          },
          "metadata": {
            "tags": []
          },
          "execution_count": 75
        }
      ]
    },
    {
      "cell_type": "code",
      "metadata": {
        "colab": {
          "base_uri": "https://localhost:8080/"
        },
        "id": "xCXfGcfzXBXf",
        "outputId": "cc2cbe4a-7aaa-4b0f-f8f4-aaf63cb4c6a9"
      },
      "source": [
        "Movies_Data = New_Data[New_Data.type == 'Movie']\n",
        "TV_Data = New_Data[New_Data.type == 'TV Show']\n",
        "print(Movies_Data.shape)\n",
        "TV_Data.shape"
      ],
      "execution_count": 77,
      "outputs": [
        {
          "output_type": "stream",
          "text": [
            "(2384, 3)\n"
          ],
          "name": "stdout"
        },
        {
          "output_type": "execute_result",
          "data": {
            "text/plain": [
              "(337, 3)"
            ]
          },
          "metadata": {
            "tags": []
          },
          "execution_count": 77
        }
      ]
    },
    {
      "cell_type": "code",
      "metadata": {
        "id": "kIvwz-imbXDN"
      },
      "source": [
        "Movies_Data = Movies_Data.drop(['type'], axis=1)"
      ],
      "execution_count": 78,
      "outputs": []
    },
    {
      "cell_type": "code",
      "metadata": {
        "colab": {
          "base_uri": "https://localhost:8080/",
          "height": 419
        },
        "id": "IqCWpFC6aK_9",
        "outputId": "43adec4b-7293-413b-ebb4-00e553e5603c"
      },
      "source": [
        "Movies_Data"
      ],
      "execution_count": 79,
      "outputs": [
        {
          "output_type": "execute_result",
          "data": {
            "text/html": [
              "<div>\n",
              "<style scoped>\n",
              "    .dataframe tbody tr th:only-of-type {\n",
              "        vertical-align: middle;\n",
              "    }\n",
              "\n",
              "    .dataframe tbody tr th {\n",
              "        vertical-align: top;\n",
              "    }\n",
              "\n",
              "    .dataframe thead th {\n",
              "        text-align: right;\n",
              "    }\n",
              "</style>\n",
              "<table border=\"1\" class=\"dataframe\">\n",
              "  <thead>\n",
              "    <tr style=\"text-align: right;\">\n",
              "      <th></th>\n",
              "      <th>Title</th>\n",
              "      <th>Rating</th>\n",
              "    </tr>\n",
              "  </thead>\n",
              "  <tbody>\n",
              "    <tr>\n",
              "      <th>389</th>\n",
              "      <td>Pulp Fiction</td>\n",
              "      <td>8.9</td>\n",
              "    </tr>\n",
              "    <tr>\n",
              "      <th>371</th>\n",
              "      <td>Schindler's List</td>\n",
              "      <td>8.9</td>\n",
              "    </tr>\n",
              "    <tr>\n",
              "      <th>1285</th>\n",
              "      <td>Inception</td>\n",
              "      <td>8.8</td>\n",
              "    </tr>\n",
              "    <tr>\n",
              "      <th>2651</th>\n",
              "      <td>Ani... Dr. Kashinath Ghanekar</td>\n",
              "      <td>8.6</td>\n",
              "    </tr>\n",
              "    <tr>\n",
              "      <th>598</th>\n",
              "      <td>Koshish</td>\n",
              "      <td>8.6</td>\n",
              "    </tr>\n",
              "    <tr>\n",
              "      <th>...</th>\n",
              "      <td>...</td>\n",
              "      <td>...</td>\n",
              "    </tr>\n",
              "    <tr>\n",
              "      <th>832</th>\n",
              "      <td>The Vault</td>\n",
              "      <td>1.9</td>\n",
              "    </tr>\n",
              "    <tr>\n",
              "      <th>571</th>\n",
              "      <td>Himmatwala</td>\n",
              "      <td>1.7</td>\n",
              "    </tr>\n",
              "    <tr>\n",
              "      <th>2175</th>\n",
              "      <td>Aerials</td>\n",
              "      <td>1.6</td>\n",
              "    </tr>\n",
              "    <tr>\n",
              "      <th>1189</th>\n",
              "      <td>Pink</td>\n",
              "      <td>1.6</td>\n",
              "    </tr>\n",
              "    <tr>\n",
              "      <th>1673</th>\n",
              "      <td>Welcome to New York</td>\n",
              "      <td>1.6</td>\n",
              "    </tr>\n",
              "  </tbody>\n",
              "</table>\n",
              "<p>2384 rows × 2 columns</p>\n",
              "</div>"
            ],
            "text/plain": [
              "                              Title  Rating\n",
              "389                    Pulp Fiction     8.9\n",
              "371                Schindler's List     8.9\n",
              "1285                      Inception     8.8\n",
              "2651  Ani... Dr. Kashinath Ghanekar     8.6\n",
              "598                         Koshish     8.6\n",
              "...                             ...     ...\n",
              "832                       The Vault     1.9\n",
              "571                      Himmatwala     1.7\n",
              "2175                        Aerials     1.6\n",
              "1189                           Pink     1.6\n",
              "1673            Welcome to New York     1.6\n",
              "\n",
              "[2384 rows x 2 columns]"
            ]
          },
          "metadata": {
            "tags": []
          },
          "execution_count": 79
        }
      ]
    },
    {
      "cell_type": "code",
      "metadata": {
        "colab": {
          "base_uri": "https://localhost:8080/",
          "height": 419
        },
        "id": "ucp94w0gbho3",
        "outputId": "fbfc0c3b-6d7d-4667-e9f7-d05e9c46abff"
      },
      "source": [
        "Movies_Data['Polarity_Rating'] = Movies_Data['Rating'].apply(lambda x: 'Positive' if x > 6 else 'Negative')\n",
        "Movies_Data"
      ],
      "execution_count": 80,
      "outputs": [
        {
          "output_type": "execute_result",
          "data": {
            "text/html": [
              "<div>\n",
              "<style scoped>\n",
              "    .dataframe tbody tr th:only-of-type {\n",
              "        vertical-align: middle;\n",
              "    }\n",
              "\n",
              "    .dataframe tbody tr th {\n",
              "        vertical-align: top;\n",
              "    }\n",
              "\n",
              "    .dataframe thead th {\n",
              "        text-align: right;\n",
              "    }\n",
              "</style>\n",
              "<table border=\"1\" class=\"dataframe\">\n",
              "  <thead>\n",
              "    <tr style=\"text-align: right;\">\n",
              "      <th></th>\n",
              "      <th>Title</th>\n",
              "      <th>Rating</th>\n",
              "      <th>Polarity_Rating</th>\n",
              "    </tr>\n",
              "  </thead>\n",
              "  <tbody>\n",
              "    <tr>\n",
              "      <th>389</th>\n",
              "      <td>Pulp Fiction</td>\n",
              "      <td>8.9</td>\n",
              "      <td>Positive</td>\n",
              "    </tr>\n",
              "    <tr>\n",
              "      <th>371</th>\n",
              "      <td>Schindler's List</td>\n",
              "      <td>8.9</td>\n",
              "      <td>Positive</td>\n",
              "    </tr>\n",
              "    <tr>\n",
              "      <th>1285</th>\n",
              "      <td>Inception</td>\n",
              "      <td>8.8</td>\n",
              "      <td>Positive</td>\n",
              "    </tr>\n",
              "    <tr>\n",
              "      <th>2651</th>\n",
              "      <td>Ani... Dr. Kashinath Ghanekar</td>\n",
              "      <td>8.6</td>\n",
              "      <td>Positive</td>\n",
              "    </tr>\n",
              "    <tr>\n",
              "      <th>598</th>\n",
              "      <td>Koshish</td>\n",
              "      <td>8.6</td>\n",
              "      <td>Positive</td>\n",
              "    </tr>\n",
              "    <tr>\n",
              "      <th>...</th>\n",
              "      <td>...</td>\n",
              "      <td>...</td>\n",
              "      <td>...</td>\n",
              "    </tr>\n",
              "    <tr>\n",
              "      <th>832</th>\n",
              "      <td>The Vault</td>\n",
              "      <td>1.9</td>\n",
              "      <td>Negative</td>\n",
              "    </tr>\n",
              "    <tr>\n",
              "      <th>571</th>\n",
              "      <td>Himmatwala</td>\n",
              "      <td>1.7</td>\n",
              "      <td>Negative</td>\n",
              "    </tr>\n",
              "    <tr>\n",
              "      <th>2175</th>\n",
              "      <td>Aerials</td>\n",
              "      <td>1.6</td>\n",
              "      <td>Negative</td>\n",
              "    </tr>\n",
              "    <tr>\n",
              "      <th>1189</th>\n",
              "      <td>Pink</td>\n",
              "      <td>1.6</td>\n",
              "      <td>Negative</td>\n",
              "    </tr>\n",
              "    <tr>\n",
              "      <th>1673</th>\n",
              "      <td>Welcome to New York</td>\n",
              "      <td>1.6</td>\n",
              "      <td>Negative</td>\n",
              "    </tr>\n",
              "  </tbody>\n",
              "</table>\n",
              "<p>2384 rows × 3 columns</p>\n",
              "</div>"
            ],
            "text/plain": [
              "                              Title  Rating Polarity_Rating\n",
              "389                    Pulp Fiction     8.9        Positive\n",
              "371                Schindler's List     8.9        Positive\n",
              "1285                      Inception     8.8        Positive\n",
              "2651  Ani... Dr. Kashinath Ghanekar     8.6        Positive\n",
              "598                         Koshish     8.6        Positive\n",
              "...                             ...     ...             ...\n",
              "832                       The Vault     1.9        Negative\n",
              "571                      Himmatwala     1.7        Negative\n",
              "2175                        Aerials     1.6        Negative\n",
              "1189                           Pink     1.6        Negative\n",
              "1673            Welcome to New York     1.6        Negative\n",
              "\n",
              "[2384 rows x 3 columns]"
            ]
          },
          "metadata": {
            "tags": []
          },
          "execution_count": 80
        }
      ]
    },
    {
      "cell_type": "code",
      "metadata": {
        "colab": {
          "base_uri": "https://localhost:8080/",
          "height": 542
        },
        "id": "vUu51jeEcLl2",
        "outputId": "10b9b305-c616-4ceb-cb06-aba162861640"
      },
      "source": [
        "fig = px.pie(values=Movies_Data['Polarity_Rating'].value_counts(), \n",
        "             names=Movies_Data['Polarity_Rating'].value_counts().index)\n",
        "fig.show()"
      ],
      "execution_count": 81,
      "outputs": [
        {
          "output_type": "display_data",
          "data": {
            "text/html": [
              "<html>\n",
              "<head><meta charset=\"utf-8\" /></head>\n",
              "<body>\n",
              "    <div>\n",
              "            <script src=\"https://cdnjs.cloudflare.com/ajax/libs/mathjax/2.7.5/MathJax.js?config=TeX-AMS-MML_SVG\"></script><script type=\"text/javascript\">if (window.MathJax) {MathJax.Hub.Config({SVG: {font: \"STIX-Web\"}});}</script>\n",
              "                <script type=\"text/javascript\">window.PlotlyConfig = {MathJaxConfig: 'local'};</script>\n",
              "        <script src=\"https://cdn.plot.ly/plotly-latest.min.js\"></script>    \n",
              "            <div id=\"df8e6e4f-00eb-41a0-ab59-b9f4411e21fe\" class=\"plotly-graph-div\" style=\"height:525px; width:100%;\"></div>\n",
              "            <script type=\"text/javascript\">\n",
              "                \n",
              "                    window.PLOTLYENV=window.PLOTLYENV || {};\n",
              "                    \n",
              "                if (document.getElementById(\"df8e6e4f-00eb-41a0-ab59-b9f4411e21fe\")) {\n",
              "                    Plotly.newPlot(\n",
              "                        'df8e6e4f-00eb-41a0-ab59-b9f4411e21fe',\n",
              "                        [{\"domain\": {\"x\": [0.0, 1.0], \"y\": [0.0, 1.0]}, \"hoverlabel\": {\"namelength\": 0}, \"hovertemplate\": \"label=%{label}<br>value=%{value}\", \"labels\": [\"Positive\", \"Negative\"], \"legendgroup\": \"\", \"name\": \"\", \"showlegend\": true, \"type\": \"pie\", \"values\": [1206, 1178]}],\n",
              "                        {\"legend\": {\"tracegroupgap\": 0}, \"margin\": {\"t\": 60}, \"template\": {\"data\": {\"bar\": [{\"error_x\": {\"color\": \"#2a3f5f\"}, \"error_y\": {\"color\": \"#2a3f5f\"}, \"marker\": {\"line\": {\"color\": \"#E5ECF6\", \"width\": 0.5}}, \"type\": \"bar\"}], \"barpolar\": [{\"marker\": {\"line\": {\"color\": \"#E5ECF6\", \"width\": 0.5}}, \"type\": \"barpolar\"}], \"carpet\": [{\"aaxis\": {\"endlinecolor\": \"#2a3f5f\", \"gridcolor\": \"white\", \"linecolor\": \"white\", \"minorgridcolor\": \"white\", \"startlinecolor\": \"#2a3f5f\"}, \"baxis\": {\"endlinecolor\": \"#2a3f5f\", \"gridcolor\": \"white\", \"linecolor\": \"white\", \"minorgridcolor\": \"white\", \"startlinecolor\": \"#2a3f5f\"}, \"type\": \"carpet\"}], \"choropleth\": [{\"colorbar\": {\"outlinewidth\": 0, \"ticks\": \"\"}, \"type\": \"choropleth\"}], \"contour\": [{\"colorbar\": {\"outlinewidth\": 0, \"ticks\": \"\"}, \"colorscale\": [[0.0, \"#0d0887\"], [0.1111111111111111, \"#46039f\"], [0.2222222222222222, \"#7201a8\"], [0.3333333333333333, \"#9c179e\"], [0.4444444444444444, \"#bd3786\"], [0.5555555555555556, \"#d8576b\"], [0.6666666666666666, \"#ed7953\"], [0.7777777777777778, \"#fb9f3a\"], [0.8888888888888888, \"#fdca26\"], [1.0, \"#f0f921\"]], \"type\": \"contour\"}], \"contourcarpet\": [{\"colorbar\": {\"outlinewidth\": 0, \"ticks\": \"\"}, \"type\": \"contourcarpet\"}], \"heatmap\": [{\"colorbar\": {\"outlinewidth\": 0, \"ticks\": \"\"}, \"colorscale\": [[0.0, \"#0d0887\"], [0.1111111111111111, \"#46039f\"], [0.2222222222222222, \"#7201a8\"], [0.3333333333333333, \"#9c179e\"], [0.4444444444444444, \"#bd3786\"], [0.5555555555555556, \"#d8576b\"], [0.6666666666666666, \"#ed7953\"], [0.7777777777777778, \"#fb9f3a\"], [0.8888888888888888, \"#fdca26\"], [1.0, \"#f0f921\"]], \"type\": \"heatmap\"}], \"heatmapgl\": [{\"colorbar\": {\"outlinewidth\": 0, \"ticks\": \"\"}, \"colorscale\": [[0.0, \"#0d0887\"], [0.1111111111111111, \"#46039f\"], [0.2222222222222222, \"#7201a8\"], [0.3333333333333333, \"#9c179e\"], [0.4444444444444444, \"#bd3786\"], [0.5555555555555556, \"#d8576b\"], [0.6666666666666666, \"#ed7953\"], [0.7777777777777778, \"#fb9f3a\"], [0.8888888888888888, \"#fdca26\"], [1.0, \"#f0f921\"]], \"type\": \"heatmapgl\"}], \"histogram\": [{\"marker\": {\"colorbar\": {\"outlinewidth\": 0, \"ticks\": \"\"}}, \"type\": \"histogram\"}], \"histogram2d\": [{\"colorbar\": {\"outlinewidth\": 0, \"ticks\": \"\"}, \"colorscale\": [[0.0, \"#0d0887\"], [0.1111111111111111, \"#46039f\"], [0.2222222222222222, \"#7201a8\"], [0.3333333333333333, \"#9c179e\"], [0.4444444444444444, \"#bd3786\"], [0.5555555555555556, \"#d8576b\"], [0.6666666666666666, \"#ed7953\"], [0.7777777777777778, \"#fb9f3a\"], [0.8888888888888888, \"#fdca26\"], [1.0, \"#f0f921\"]], \"type\": \"histogram2d\"}], \"histogram2dcontour\": [{\"colorbar\": {\"outlinewidth\": 0, \"ticks\": \"\"}, \"colorscale\": [[0.0, \"#0d0887\"], [0.1111111111111111, \"#46039f\"], [0.2222222222222222, \"#7201a8\"], [0.3333333333333333, \"#9c179e\"], [0.4444444444444444, \"#bd3786\"], [0.5555555555555556, \"#d8576b\"], [0.6666666666666666, \"#ed7953\"], [0.7777777777777778, \"#fb9f3a\"], [0.8888888888888888, \"#fdca26\"], [1.0, \"#f0f921\"]], \"type\": \"histogram2dcontour\"}], \"mesh3d\": [{\"colorbar\": {\"outlinewidth\": 0, \"ticks\": \"\"}, \"type\": \"mesh3d\"}], \"parcoords\": [{\"line\": {\"colorbar\": {\"outlinewidth\": 0, \"ticks\": \"\"}}, \"type\": \"parcoords\"}], \"pie\": [{\"automargin\": true, \"type\": \"pie\"}], \"scatter\": [{\"marker\": {\"colorbar\": {\"outlinewidth\": 0, \"ticks\": \"\"}}, \"type\": \"scatter\"}], \"scatter3d\": [{\"line\": {\"colorbar\": {\"outlinewidth\": 0, \"ticks\": \"\"}}, \"marker\": {\"colorbar\": {\"outlinewidth\": 0, \"ticks\": \"\"}}, \"type\": \"scatter3d\"}], \"scattercarpet\": [{\"marker\": {\"colorbar\": {\"outlinewidth\": 0, \"ticks\": \"\"}}, \"type\": \"scattercarpet\"}], \"scattergeo\": [{\"marker\": {\"colorbar\": {\"outlinewidth\": 0, \"ticks\": \"\"}}, \"type\": \"scattergeo\"}], \"scattergl\": [{\"marker\": {\"colorbar\": {\"outlinewidth\": 0, \"ticks\": \"\"}}, \"type\": \"scattergl\"}], \"scattermapbox\": [{\"marker\": {\"colorbar\": {\"outlinewidth\": 0, \"ticks\": \"\"}}, \"type\": \"scattermapbox\"}], \"scatterpolar\": [{\"marker\": {\"colorbar\": {\"outlinewidth\": 0, \"ticks\": \"\"}}, \"type\": \"scatterpolar\"}], \"scatterpolargl\": [{\"marker\": {\"colorbar\": {\"outlinewidth\": 0, \"ticks\": \"\"}}, \"type\": \"scatterpolargl\"}], \"scatterternary\": [{\"marker\": {\"colorbar\": {\"outlinewidth\": 0, \"ticks\": \"\"}}, \"type\": \"scatterternary\"}], \"surface\": [{\"colorbar\": {\"outlinewidth\": 0, \"ticks\": \"\"}, \"colorscale\": [[0.0, \"#0d0887\"], [0.1111111111111111, \"#46039f\"], [0.2222222222222222, \"#7201a8\"], [0.3333333333333333, \"#9c179e\"], [0.4444444444444444, \"#bd3786\"], [0.5555555555555556, \"#d8576b\"], [0.6666666666666666, \"#ed7953\"], [0.7777777777777778, \"#fb9f3a\"], [0.8888888888888888, \"#fdca26\"], [1.0, \"#f0f921\"]], \"type\": \"surface\"}], \"table\": [{\"cells\": {\"fill\": {\"color\": \"#EBF0F8\"}, \"line\": {\"color\": \"white\"}}, \"header\": {\"fill\": {\"color\": \"#C8D4E3\"}, \"line\": {\"color\": \"white\"}}, \"type\": \"table\"}]}, \"layout\": {\"annotationdefaults\": {\"arrowcolor\": \"#2a3f5f\", \"arrowhead\": 0, \"arrowwidth\": 1}, \"coloraxis\": {\"colorbar\": {\"outlinewidth\": 0, \"ticks\": \"\"}}, \"colorscale\": {\"diverging\": [[0, \"#8e0152\"], [0.1, \"#c51b7d\"], [0.2, \"#de77ae\"], [0.3, \"#f1b6da\"], [0.4, \"#fde0ef\"], [0.5, \"#f7f7f7\"], [0.6, \"#e6f5d0\"], [0.7, \"#b8e186\"], [0.8, \"#7fbc41\"], [0.9, \"#4d9221\"], [1, \"#276419\"]], \"sequential\": [[0.0, \"#0d0887\"], [0.1111111111111111, \"#46039f\"], [0.2222222222222222, \"#7201a8\"], [0.3333333333333333, \"#9c179e\"], [0.4444444444444444, \"#bd3786\"], [0.5555555555555556, \"#d8576b\"], [0.6666666666666666, \"#ed7953\"], [0.7777777777777778, \"#fb9f3a\"], [0.8888888888888888, \"#fdca26\"], [1.0, \"#f0f921\"]], \"sequentialminus\": [[0.0, \"#0d0887\"], [0.1111111111111111, \"#46039f\"], [0.2222222222222222, \"#7201a8\"], [0.3333333333333333, \"#9c179e\"], [0.4444444444444444, \"#bd3786\"], [0.5555555555555556, \"#d8576b\"], [0.6666666666666666, \"#ed7953\"], [0.7777777777777778, \"#fb9f3a\"], [0.8888888888888888, \"#fdca26\"], [1.0, \"#f0f921\"]]}, \"colorway\": [\"#636efa\", \"#EF553B\", \"#00cc96\", \"#ab63fa\", \"#FFA15A\", \"#19d3f3\", \"#FF6692\", \"#B6E880\", \"#FF97FF\", \"#FECB52\"], \"font\": {\"color\": \"#2a3f5f\"}, \"geo\": {\"bgcolor\": \"white\", \"lakecolor\": \"white\", \"landcolor\": \"#E5ECF6\", \"showlakes\": true, \"showland\": true, \"subunitcolor\": \"white\"}, \"hoverlabel\": {\"align\": \"left\"}, \"hovermode\": \"closest\", \"mapbox\": {\"style\": \"light\"}, \"paper_bgcolor\": \"white\", \"plot_bgcolor\": \"#E5ECF6\", \"polar\": {\"angularaxis\": {\"gridcolor\": \"white\", \"linecolor\": \"white\", \"ticks\": \"\"}, \"bgcolor\": \"#E5ECF6\", \"radialaxis\": {\"gridcolor\": \"white\", \"linecolor\": \"white\", \"ticks\": \"\"}}, \"scene\": {\"xaxis\": {\"backgroundcolor\": \"#E5ECF6\", \"gridcolor\": \"white\", \"gridwidth\": 2, \"linecolor\": \"white\", \"showbackground\": true, \"ticks\": \"\", \"zerolinecolor\": \"white\"}, \"yaxis\": {\"backgroundcolor\": \"#E5ECF6\", \"gridcolor\": \"white\", \"gridwidth\": 2, \"linecolor\": \"white\", \"showbackground\": true, \"ticks\": \"\", \"zerolinecolor\": \"white\"}, \"zaxis\": {\"backgroundcolor\": \"#E5ECF6\", \"gridcolor\": \"white\", \"gridwidth\": 2, \"linecolor\": \"white\", \"showbackground\": true, \"ticks\": \"\", \"zerolinecolor\": \"white\"}}, \"shapedefaults\": {\"line\": {\"color\": \"#2a3f5f\"}}, \"ternary\": {\"aaxis\": {\"gridcolor\": \"white\", \"linecolor\": \"white\", \"ticks\": \"\"}, \"baxis\": {\"gridcolor\": \"white\", \"linecolor\": \"white\", \"ticks\": \"\"}, \"bgcolor\": \"#E5ECF6\", \"caxis\": {\"gridcolor\": \"white\", \"linecolor\": \"white\", \"ticks\": \"\"}}, \"title\": {\"x\": 0.05}, \"xaxis\": {\"automargin\": true, \"gridcolor\": \"white\", \"linecolor\": \"white\", \"ticks\": \"\", \"title\": {\"standoff\": 15}, \"zerolinecolor\": \"white\", \"zerolinewidth\": 2}, \"yaxis\": {\"automargin\": true, \"gridcolor\": \"white\", \"linecolor\": \"white\", \"ticks\": \"\", \"title\": {\"standoff\": 15}, \"zerolinecolor\": \"white\", \"zerolinewidth\": 2}}}},\n",
              "                        {\"responsive\": true}\n",
              "                    ).then(function(){\n",
              "                            \n",
              "var gd = document.getElementById('df8e6e4f-00eb-41a0-ab59-b9f4411e21fe');\n",
              "var x = new MutationObserver(function (mutations, observer) {{\n",
              "        var display = window.getComputedStyle(gd).display;\n",
              "        if (!display || display === 'none') {{\n",
              "            console.log([gd, 'removed!']);\n",
              "            Plotly.purge(gd);\n",
              "            observer.disconnect();\n",
              "        }}\n",
              "}});\n",
              "\n",
              "// Listen for the removal of the full notebook cells\n",
              "var notebookContainer = gd.closest('#notebook-container');\n",
              "if (notebookContainer) {{\n",
              "    x.observe(notebookContainer, {childList: true});\n",
              "}}\n",
              "\n",
              "// Listen for the clearing of the current output cell\n",
              "var outputEl = gd.closest('.output');\n",
              "if (outputEl) {{\n",
              "    x.observe(outputEl, {childList: true});\n",
              "}}\n",
              "\n",
              "                        })\n",
              "                };\n",
              "                \n",
              "            </script>\n",
              "        </div>\n",
              "</body>\n",
              "</html>"
            ]
          },
          "metadata": {
            "tags": []
          }
        }
      ]
    },
    {
      "cell_type": "code",
      "metadata": {
        "colab": {
          "base_uri": "https://localhost:8080/"
        },
        "id": "vF9xd2FIf-qR",
        "outputId": "d2a1c422-bea6-4620-e472-4e318ba95e7f"
      },
      "source": [
        "Positive = Movies_Data[Movies_Data['Polarity_Rating'] == 'Positive']\n",
        "Negative = Movies_Data[Movies_Data['Polarity_Rating'] == 'Negative']\n",
        "\n",
        "print(Positive.shape)\n",
        "Negative.shape"
      ],
      "execution_count": 82,
      "outputs": [
        {
          "output_type": "stream",
          "text": [
            "(1206, 3)\n"
          ],
          "name": "stdout"
        },
        {
          "output_type": "execute_result",
          "data": {
            "text/plain": [
              "(1178, 3)"
            ]
          },
          "metadata": {
            "tags": []
          },
          "execution_count": 82
        }
      ]
    },
    {
      "cell_type": "code",
      "metadata": {
        "colab": {
          "base_uri": "https://localhost:8080/",
          "height": 419
        },
        "id": "lvv-T5ePgc0G",
        "outputId": "a544452e-ae33-4514-867a-5264d25f518c"
      },
      "source": [
        "df = Movies_Data[['Title','Polarity_Rating']]\n",
        "df"
      ],
      "execution_count": 83,
      "outputs": [
        {
          "output_type": "execute_result",
          "data": {
            "text/html": [
              "<div>\n",
              "<style scoped>\n",
              "    .dataframe tbody tr th:only-of-type {\n",
              "        vertical-align: middle;\n",
              "    }\n",
              "\n",
              "    .dataframe tbody tr th {\n",
              "        vertical-align: top;\n",
              "    }\n",
              "\n",
              "    .dataframe thead th {\n",
              "        text-align: right;\n",
              "    }\n",
              "</style>\n",
              "<table border=\"1\" class=\"dataframe\">\n",
              "  <thead>\n",
              "    <tr style=\"text-align: right;\">\n",
              "      <th></th>\n",
              "      <th>Title</th>\n",
              "      <th>Polarity_Rating</th>\n",
              "    </tr>\n",
              "  </thead>\n",
              "  <tbody>\n",
              "    <tr>\n",
              "      <th>389</th>\n",
              "      <td>Pulp Fiction</td>\n",
              "      <td>Positive</td>\n",
              "    </tr>\n",
              "    <tr>\n",
              "      <th>371</th>\n",
              "      <td>Schindler's List</td>\n",
              "      <td>Positive</td>\n",
              "    </tr>\n",
              "    <tr>\n",
              "      <th>1285</th>\n",
              "      <td>Inception</td>\n",
              "      <td>Positive</td>\n",
              "    </tr>\n",
              "    <tr>\n",
              "      <th>2651</th>\n",
              "      <td>Ani... Dr. Kashinath Ghanekar</td>\n",
              "      <td>Positive</td>\n",
              "    </tr>\n",
              "    <tr>\n",
              "      <th>598</th>\n",
              "      <td>Koshish</td>\n",
              "      <td>Positive</td>\n",
              "    </tr>\n",
              "    <tr>\n",
              "      <th>...</th>\n",
              "      <td>...</td>\n",
              "      <td>...</td>\n",
              "    </tr>\n",
              "    <tr>\n",
              "      <th>832</th>\n",
              "      <td>The Vault</td>\n",
              "      <td>Negative</td>\n",
              "    </tr>\n",
              "    <tr>\n",
              "      <th>571</th>\n",
              "      <td>Himmatwala</td>\n",
              "      <td>Negative</td>\n",
              "    </tr>\n",
              "    <tr>\n",
              "      <th>2175</th>\n",
              "      <td>Aerials</td>\n",
              "      <td>Negative</td>\n",
              "    </tr>\n",
              "    <tr>\n",
              "      <th>1189</th>\n",
              "      <td>Pink</td>\n",
              "      <td>Negative</td>\n",
              "    </tr>\n",
              "    <tr>\n",
              "      <th>1673</th>\n",
              "      <td>Welcome to New York</td>\n",
              "      <td>Negative</td>\n",
              "    </tr>\n",
              "  </tbody>\n",
              "</table>\n",
              "<p>2384 rows × 2 columns</p>\n",
              "</div>"
            ],
            "text/plain": [
              "                              Title Polarity_Rating\n",
              "389                    Pulp Fiction        Positive\n",
              "371                Schindler's List        Positive\n",
              "1285                      Inception        Positive\n",
              "2651  Ani... Dr. Kashinath Ghanekar        Positive\n",
              "598                         Koshish        Positive\n",
              "...                             ...             ...\n",
              "832                       The Vault        Negative\n",
              "571                      Himmatwala        Negative\n",
              "2175                        Aerials        Negative\n",
              "1189                           Pink        Negative\n",
              "1673            Welcome to New York        Negative\n",
              "\n",
              "[2384 rows x 2 columns]"
            ]
          },
          "metadata": {
            "tags": []
          },
          "execution_count": 83
        }
      ]
    },
    {
      "cell_type": "code",
      "metadata": {
        "colab": {
          "base_uri": "https://localhost:8080/",
          "height": 538
        },
        "id": "fPxQEnUqg42C",
        "outputId": "b4b66b7f-8ffb-435f-fed9-254969123a32"
      },
      "source": [
        "one_hot = pd.get_dummies(df[\"Polarity_Rating\"])\n",
        "df.drop(['Polarity_Rating'],axis=1,inplace=True)\n",
        "df = pd.concat([df,one_hot],axis=1)\n",
        "df"
      ],
      "execution_count": 84,
      "outputs": [
        {
          "output_type": "stream",
          "text": [
            "/usr/local/lib/python3.7/dist-packages/pandas/core/frame.py:4174: SettingWithCopyWarning:\n",
            "\n",
            "\n",
            "A value is trying to be set on a copy of a slice from a DataFrame\n",
            "\n",
            "See the caveats in the documentation: https://pandas.pydata.org/pandas-docs/stable/user_guide/indexing.html#returning-a-view-versus-a-copy\n",
            "\n"
          ],
          "name": "stderr"
        },
        {
          "output_type": "execute_result",
          "data": {
            "text/html": [
              "<div>\n",
              "<style scoped>\n",
              "    .dataframe tbody tr th:only-of-type {\n",
              "        vertical-align: middle;\n",
              "    }\n",
              "\n",
              "    .dataframe tbody tr th {\n",
              "        vertical-align: top;\n",
              "    }\n",
              "\n",
              "    .dataframe thead th {\n",
              "        text-align: right;\n",
              "    }\n",
              "</style>\n",
              "<table border=\"1\" class=\"dataframe\">\n",
              "  <thead>\n",
              "    <tr style=\"text-align: right;\">\n",
              "      <th></th>\n",
              "      <th>Title</th>\n",
              "      <th>Negative</th>\n",
              "      <th>Positive</th>\n",
              "    </tr>\n",
              "  </thead>\n",
              "  <tbody>\n",
              "    <tr>\n",
              "      <th>389</th>\n",
              "      <td>Pulp Fiction</td>\n",
              "      <td>0</td>\n",
              "      <td>1</td>\n",
              "    </tr>\n",
              "    <tr>\n",
              "      <th>371</th>\n",
              "      <td>Schindler's List</td>\n",
              "      <td>0</td>\n",
              "      <td>1</td>\n",
              "    </tr>\n",
              "    <tr>\n",
              "      <th>1285</th>\n",
              "      <td>Inception</td>\n",
              "      <td>0</td>\n",
              "      <td>1</td>\n",
              "    </tr>\n",
              "    <tr>\n",
              "      <th>2651</th>\n",
              "      <td>Ani... Dr. Kashinath Ghanekar</td>\n",
              "      <td>0</td>\n",
              "      <td>1</td>\n",
              "    </tr>\n",
              "    <tr>\n",
              "      <th>598</th>\n",
              "      <td>Koshish</td>\n",
              "      <td>0</td>\n",
              "      <td>1</td>\n",
              "    </tr>\n",
              "    <tr>\n",
              "      <th>...</th>\n",
              "      <td>...</td>\n",
              "      <td>...</td>\n",
              "      <td>...</td>\n",
              "    </tr>\n",
              "    <tr>\n",
              "      <th>832</th>\n",
              "      <td>The Vault</td>\n",
              "      <td>1</td>\n",
              "      <td>0</td>\n",
              "    </tr>\n",
              "    <tr>\n",
              "      <th>571</th>\n",
              "      <td>Himmatwala</td>\n",
              "      <td>1</td>\n",
              "      <td>0</td>\n",
              "    </tr>\n",
              "    <tr>\n",
              "      <th>2175</th>\n",
              "      <td>Aerials</td>\n",
              "      <td>1</td>\n",
              "      <td>0</td>\n",
              "    </tr>\n",
              "    <tr>\n",
              "      <th>1189</th>\n",
              "      <td>Pink</td>\n",
              "      <td>1</td>\n",
              "      <td>0</td>\n",
              "    </tr>\n",
              "    <tr>\n",
              "      <th>1673</th>\n",
              "      <td>Welcome to New York</td>\n",
              "      <td>1</td>\n",
              "      <td>0</td>\n",
              "    </tr>\n",
              "  </tbody>\n",
              "</table>\n",
              "<p>2384 rows × 3 columns</p>\n",
              "</div>"
            ],
            "text/plain": [
              "                              Title  Negative  Positive\n",
              "389                    Pulp Fiction         0         1\n",
              "371                Schindler's List         0         1\n",
              "1285                      Inception         0         1\n",
              "2651  Ani... Dr. Kashinath Ghanekar         0         1\n",
              "598                         Koshish         0         1\n",
              "...                             ...       ...       ...\n",
              "832                       The Vault         1         0\n",
              "571                      Himmatwala         1         0\n",
              "2175                        Aerials         1         0\n",
              "1189                           Pink         1         0\n",
              "1673            Welcome to New York         1         0\n",
              "\n",
              "[2384 rows x 3 columns]"
            ]
          },
          "metadata": {
            "tags": []
          },
          "execution_count": 84
        }
      ]
    },
    {
      "cell_type": "code",
      "metadata": {
        "id": "u9fh2aZThR8f"
      },
      "source": [
        "X = df['Title'].values\n",
        "y = df.drop('Title', axis=1).values\n",
        "X_train, X_test, y_train, y_test = train_test_split(X, y, test_size=0.10, random_state=42)"
      ],
      "execution_count": 85,
      "outputs": []
    },
    {
      "cell_type": "code",
      "metadata": {
        "colab": {
          "base_uri": "https://localhost:8080/"
        },
        "id": "O9uWTCy5hf7H",
        "outputId": "8dbb61c3-ed32-4dc4-f547-4292a01ecb96"
      },
      "source": [
        "X_train"
      ],
      "execution_count": 86,
      "outputs": [
        {
          "output_type": "execute_result",
          "data": {
            "text/plain": [
              "array(['Anchor and Hope', 'Kya Kehna', 'VS.', ..., 'Leap Year',\n",
              "       'The Breaker Upperers', 'The Rehearsal'], dtype=object)"
            ]
          },
          "metadata": {
            "tags": []
          },
          "execution_count": 86
        }
      ]
    },
    {
      "cell_type": "code",
      "metadata": {
        "colab": {
          "base_uri": "https://localhost:8080/"
        },
        "id": "_l2VZqe5hiMq",
        "outputId": "32b13c4c-3459-4a06-9148-d9c7cb388a56"
      },
      "source": [
        "y_train"
      ],
      "execution_count": 87,
      "outputs": [
        {
          "output_type": "execute_result",
          "data": {
            "text/plain": [
              "array([[0, 1],\n",
              "       [1, 0],\n",
              "       [1, 0],\n",
              "       ...,\n",
              "       [0, 1],\n",
              "       [1, 0],\n",
              "       [0, 1]], dtype=uint8)"
            ]
          },
          "metadata": {
            "tags": []
          },
          "execution_count": 87
        }
      ]
    },
    {
      "cell_type": "code",
      "metadata": {
        "id": "Kl0ROyGFhoN1"
      },
      "source": [
        "vect = CountVectorizer()\n",
        "X_train = vect.fit_transform(X_train)\n",
        "X_test = vect.transform(X_test)"
      ],
      "execution_count": 88,
      "outputs": []
    },
    {
      "cell_type": "code",
      "metadata": {
        "id": "QqTi6WrfhsXx"
      },
      "source": [
        "tfidf = TfidfTransformer()\n",
        "X_train = tfidf.fit_transform(X_train)\n",
        "X_test = tfidf.transform(X_test)\n",
        "X_train = X_train.toarray()\n",
        "X_test = X_test.toarray()"
      ],
      "execution_count": 89,
      "outputs": []
    },
    {
      "cell_type": "code",
      "metadata": {
        "id": "cN0rJulhhwYD"
      },
      "source": [
        "model = Sequential()\n",
        "\n",
        "model.add(Dense(units=12673,activation='relu'))\n",
        "model.add(Dropout(0.5))\n",
        "\n",
        "model.add(Dense(units=4000,activation='relu'))\n",
        "model.add(Dropout(0.5))\n",
        "\n",
        "model.add(Dense(units=500,activation='relu'))\n",
        "model.add(Dropout(0.5))\n",
        "\n",
        "model.add(Dense(units=2, activation='sigmoid'))\n",
        "\n",
        "opt=tf.keras.optimizers.Adam(learning_rate=0.001)\n",
        "model.compile(loss='categorical_crossentropy', optimizer=opt, metrics=['accuracy'])\n",
        "\n",
        "early_stop = EarlyStopping(monitor='val_loss', mode='min', verbose=1, patience=2)"
      ],
      "execution_count": 90,
      "outputs": []
    },
    {
      "cell_type": "code",
      "metadata": {
        "colab": {
          "base_uri": "https://localhost:8080/"
        },
        "id": "6N_azyO2h-dC",
        "outputId": "7dd397e5-22bf-490d-eb49-9c9e44fd5f13"
      },
      "source": [
        "model.fit(x=X_train, y=y_train, batch_size=200, epochs=100, validation_data=(X_test, y_test), verbose=1, callbacks=early_stop)"
      ],
      "execution_count": 91,
      "outputs": [
        {
          "output_type": "stream",
          "text": [
            "Epoch 1/100\n",
            "11/11 [==============================] - 2s 117ms/step - loss: 0.6994 - accuracy: 0.4879 - val_loss: 0.6856 - val_accuracy: 0.5272\n",
            "Epoch 2/100\n",
            "11/11 [==============================] - 1s 91ms/step - loss: 0.5847 - accuracy: 0.7221 - val_loss: 0.9582 - val_accuracy: 0.5774\n",
            "Epoch 3/100\n",
            "11/11 [==============================] - 1s 90ms/step - loss: 0.2525 - accuracy: 0.8973 - val_loss: 1.0355 - val_accuracy: 0.5481\n",
            "Epoch 00003: early stopping\n"
          ],
          "name": "stdout"
        },
        {
          "output_type": "execute_result",
          "data": {
            "text/plain": [
              "<tensorflow.python.keras.callbacks.History at 0x7f979d8ba310>"
            ]
          },
          "metadata": {
            "tags": []
          },
          "execution_count": 91
        }
      ]
    },
    {
      "cell_type": "code",
      "metadata": {
        "colab": {
          "base_uri": "https://localhost:8080/"
        },
        "id": "yS2nHIrNiPm8",
        "outputId": "d01bb988-4937-4747-b342-4b9d011e2aff"
      },
      "source": [
        "model_score = model.evaluate(X_test, y_test, batch_size=64, verbose=1)\n",
        "print('Test accuracy:', model_score[1])"
      ],
      "execution_count": 92,
      "outputs": [
        {
          "output_type": "stream",
          "text": [
            "4/4 [==============================] - 0s 14ms/step - loss: 1.0355 - accuracy: 0.5481\n",
            "Test accuracy: 0.5481171607971191\n"
          ],
          "name": "stdout"
        }
      ]
    },
    {
      "cell_type": "code",
      "metadata": {
        "colab": {
          "base_uri": "https://localhost:8080/"
        },
        "id": "XrDMBgVFiWNW",
        "outputId": "41f95080-763d-4431-a43b-9283f773f9f0"
      },
      "source": [
        "preds = model.predict(X_test)\n",
        "preds"
      ],
      "execution_count": 93,
      "outputs": [
        {
          "output_type": "execute_result",
          "data": {
            "text/plain": [
              "array([[0.53088295, 0.50357723],\n",
              "       [0.81678563, 0.17717499],\n",
              "       [0.4680215 , 0.5723014 ],\n",
              "       [0.29138118, 0.7507885 ],\n",
              "       [0.48015216, 0.56493896],\n",
              "       [0.5980559 , 0.4294361 ],\n",
              "       [0.5426638 , 0.46417716],\n",
              "       [0.89400744, 0.08381581],\n",
              "       [0.11313027, 0.912856  ],\n",
              "       [0.302416  , 0.7401019 ],\n",
              "       [0.7799639 , 0.22175586],\n",
              "       [0.5426638 , 0.46417716],\n",
              "       [0.8980302 , 0.07873772],\n",
              "       [0.45719478, 0.5912688 ],\n",
              "       [0.5426638 , 0.46417716],\n",
              "       [0.18170659, 0.85358316],\n",
              "       [0.19038528, 0.8409243 ],\n",
              "       [0.5426638 , 0.46417716],\n",
              "       [0.12354525, 0.9028109 ],\n",
              "       [0.5426638 , 0.46417716],\n",
              "       [0.09936763, 0.92420053],\n",
              "       [0.80990976, 0.18380867],\n",
              "       [0.7344063 , 0.27566147],\n",
              "       [0.5426638 , 0.46417716],\n",
              "       [0.93323886, 0.04652707],\n",
              "       [0.9178862 , 0.06017169],\n",
              "       [0.62579006, 0.40437612],\n",
              "       [0.44699678, 0.6000618 ],\n",
              "       [0.5426638 , 0.46417716],\n",
              "       [0.39693862, 0.6502221 ],\n",
              "       [0.88663304, 0.09104207],\n",
              "       [0.81411296, 0.18527322],\n",
              "       [0.41933572, 0.62999123],\n",
              "       [0.16095012, 0.86940354],\n",
              "       [0.8448513 , 0.1484788 ],\n",
              "       [0.23821603, 0.79473484],\n",
              "       [0.39693862, 0.6502221 ],\n",
              "       [0.39693862, 0.6502221 ],\n",
              "       [0.5426638 , 0.46417716],\n",
              "       [0.7959897 , 0.20618357],\n",
              "       [0.915899  , 0.06411496],\n",
              "       [0.8680116 , 0.11291674],\n",
              "       [0.39693862, 0.6502221 ],\n",
              "       [0.5426638 , 0.46417716],\n",
              "       [0.3521216 , 0.6921002 ],\n",
              "       [0.5426638 , 0.46417716],\n",
              "       [0.3141619 , 0.7255247 ],\n",
              "       [0.43421364, 0.6093068 ],\n",
              "       [0.15349275, 0.8763375 ],\n",
              "       [0.5426638 , 0.46417716],\n",
              "       [0.39693862, 0.6502221 ],\n",
              "       [0.6426786 , 0.38157058],\n",
              "       [0.83827126, 0.1508042 ],\n",
              "       [0.5615657 , 0.46338692],\n",
              "       [0.5520499 , 0.48389554],\n",
              "       [0.5426638 , 0.46417716],\n",
              "       [0.0890581 , 0.93260133],\n",
              "       [0.5426638 , 0.46417716],\n",
              "       [0.10250124, 0.92207515],\n",
              "       [0.9178862 , 0.06017169],\n",
              "       [0.5426638 , 0.46417716],\n",
              "       [0.11078734, 0.91523397],\n",
              "       [0.7053915 , 0.31561083],\n",
              "       [0.16790661, 0.8594375 ],\n",
              "       [0.39693862, 0.6502221 ],\n",
              "       [0.67467403, 0.34176856],\n",
              "       [0.17821297, 0.85444033],\n",
              "       [0.5426638 , 0.46417716],\n",
              "       [0.50094676, 0.5425012 ],\n",
              "       [0.15700494, 0.87396234],\n",
              "       [0.5426638 , 0.46417716],\n",
              "       [0.1550827 , 0.8734245 ],\n",
              "       [0.5426638 , 0.46417716],\n",
              "       [0.8278799 , 0.15849684],\n",
              "       [0.5426638 , 0.46417716],\n",
              "       [0.44086546, 0.60120255],\n",
              "       [0.81743366, 0.17394844],\n",
              "       [0.08255763, 0.93840075],\n",
              "       [0.8760341 , 0.10383843],\n",
              "       [0.43823132, 0.60864383],\n",
              "       [0.7193058 , 0.2934023 ],\n",
              "       [0.5426638 , 0.46417716],\n",
              "       [0.8069194 , 0.19131127],\n",
              "       [0.5426638 , 0.46417716],\n",
              "       [0.7690824 , 0.23511036],\n",
              "       [0.15473624, 0.87485623],\n",
              "       [0.78500074, 0.22032256],\n",
              "       [0.85131264, 0.13356456],\n",
              "       [0.7665166 , 0.24097097],\n",
              "       [0.9260089 , 0.05164377],\n",
              "       [0.7658631 , 0.23713985],\n",
              "       [0.28568545, 0.7533772 ],\n",
              "       [0.8834995 , 0.09549399],\n",
              "       [0.8339741 , 0.15539537],\n",
              "       [0.14784808, 0.88159925],\n",
              "       [0.93708587, 0.04317996],\n",
              "       [0.30945984, 0.7281869 ],\n",
              "       [0.5426638 , 0.46417716],\n",
              "       [0.47919503, 0.5674496 ],\n",
              "       [0.88108456, 0.09888398],\n",
              "       [0.11269455, 0.9126206 ],\n",
              "       [0.92978615, 0.04874059],\n",
              "       [0.9384383 , 0.04163871],\n",
              "       [0.0883133 , 0.9347147 ],\n",
              "       [0.07624324, 0.9442458 ],\n",
              "       [0.43823132, 0.60864383],\n",
              "       [0.89257765, 0.08477423],\n",
              "       [0.04747327, 0.9679814 ],\n",
              "       [0.52880764, 0.5081599 ],\n",
              "       [0.5426638 , 0.46417716],\n",
              "       [0.5426638 , 0.46417716],\n",
              "       [0.11452695, 0.9100735 ],\n",
              "       [0.78989816, 0.2105053 ],\n",
              "       [0.91628385, 0.06247075],\n",
              "       [0.5426638 , 0.46417716],\n",
              "       [0.86153173, 0.12069551],\n",
              "       [0.19195567, 0.8398202 ],\n",
              "       [0.39693862, 0.6502221 ],\n",
              "       [0.86697793, 0.11510896],\n",
              "       [0.06277695, 0.95511526],\n",
              "       [0.06802797, 0.95192   ],\n",
              "       [0.46571594, 0.5785293 ],\n",
              "       [0.3121386 , 0.7280871 ],\n",
              "       [0.5471666 , 0.48419484],\n",
              "       [0.17821297, 0.85444033],\n",
              "       [0.5426638 , 0.46417716],\n",
              "       [0.8543163 , 0.12486585],\n",
              "       [0.6174993 , 0.41117337],\n",
              "       [0.5426638 , 0.46417716],\n",
              "       [0.06664198, 0.9523865 ],\n",
              "       [0.78782517, 0.21173464],\n",
              "       [0.19243175, 0.84045714],\n",
              "       [0.7299023 , 0.27597934],\n",
              "       [0.07946728, 0.94079435],\n",
              "       [0.67582417, 0.3477278 ],\n",
              "       [0.5426638 , 0.46417716],\n",
              "       [0.5426638 , 0.46417716],\n",
              "       [0.9627263 , 0.02174481],\n",
              "       [0.05861741, 0.9594348 ],\n",
              "       [0.06571274, 0.9528397 ],\n",
              "       [0.5426638 , 0.46417716],\n",
              "       [0.6778064 , 0.34195027],\n",
              "       [0.5426638 , 0.46417716],\n",
              "       [0.5426638 , 0.46417716],\n",
              "       [0.5426638 , 0.46417716],\n",
              "       [0.6952614 , 0.32210046],\n",
              "       [0.5426638 , 0.46417716],\n",
              "       [0.73732084, 0.26888984],\n",
              "       [0.39693862, 0.6502221 ],\n",
              "       [0.08022963, 0.94101936],\n",
              "       [0.5426638 , 0.46417716],\n",
              "       [0.91626555, 0.06222899],\n",
              "       [0.39693862, 0.6502221 ],\n",
              "       [0.8278486 , 0.16955984],\n",
              "       [0.43823132, 0.60864383],\n",
              "       [0.5426638 , 0.46417716],\n",
              "       [0.5426638 , 0.46417716],\n",
              "       [0.39693862, 0.6502221 ],\n",
              "       [0.39693862, 0.6502221 ],\n",
              "       [0.2571836 , 0.7809589 ],\n",
              "       [0.5458062 , 0.48556668],\n",
              "       [0.0943873 , 0.92842317],\n",
              "       [0.4788758 , 0.55805194],\n",
              "       [0.92594886, 0.05178806],\n",
              "       [0.5426638 , 0.46417716],\n",
              "       [0.74521196, 0.2603949 ],\n",
              "       [0.5426638 , 0.46417716],\n",
              "       [0.5426638 , 0.46417716],\n",
              "       [0.93323886, 0.04652707],\n",
              "       [0.18006974, 0.8529799 ],\n",
              "       [0.30782527, 0.736667  ],\n",
              "       [0.39693862, 0.6502221 ],\n",
              "       [0.5426638 , 0.46417716],\n",
              "       [0.5426638 , 0.46417716],\n",
              "       [0.43421364, 0.6093068 ],\n",
              "       [0.5426638 , 0.46417716],\n",
              "       [0.21508391, 0.819431  ],\n",
              "       [0.5426638 , 0.46417716],\n",
              "       [0.4680215 , 0.5723014 ],\n",
              "       [0.39693862, 0.6502221 ],\n",
              "       [0.5426638 , 0.46417716],\n",
              "       [0.8910412 , 0.08815379],\n",
              "       [0.30945984, 0.7281869 ],\n",
              "       [0.06776946, 0.95149344],\n",
              "       [0.9268828 , 0.05147297],\n",
              "       [0.8870251 , 0.09266543],\n",
              "       [0.5426638 , 0.46417716],\n",
              "       [0.10250124, 0.92207515],\n",
              "       [0.59457237, 0.4312906 ],\n",
              "       [0.68922746, 0.3332391 ],\n",
              "       [0.43421364, 0.6093068 ],\n",
              "       [0.8153687 , 0.17875749],\n",
              "       [0.8427699 , 0.14558889],\n",
              "       [0.6989478 , 0.31804496],\n",
              "       [0.5426638 , 0.46417716],\n",
              "       [0.5426638 , 0.46417716],\n",
              "       [0.6711921 , 0.34645912],\n",
              "       [0.5426638 , 0.46417716],\n",
              "       [0.29626918, 0.7428698 ],\n",
              "       [0.57606035, 0.4570657 ],\n",
              "       [0.39693862, 0.6502221 ],\n",
              "       [0.15115419, 0.8770732 ],\n",
              "       [0.70843893, 0.3051923 ],\n",
              "       [0.49878204, 0.54061824],\n",
              "       [0.467798  , 0.57876843],\n",
              "       [0.5139659 , 0.52721286],\n",
              "       [0.873545  , 0.10863659],\n",
              "       [0.17856376, 0.85508263],\n",
              "       [0.5302563 , 0.5063916 ],\n",
              "       [0.32348332, 0.7192135 ],\n",
              "       [0.76186323, 0.24822712],\n",
              "       [0.06283766, 0.95416605],\n",
              "       [0.39693862, 0.6502221 ],\n",
              "       [0.10070163, 0.92290413],\n",
              "       [0.5426638 , 0.46417716],\n",
              "       [0.48717636, 0.5545275 ],\n",
              "       [0.7544293 , 0.24898508],\n",
              "       [0.5938072 , 0.44012475],\n",
              "       [0.5426638 , 0.46417716],\n",
              "       [0.5426638 , 0.46417716],\n",
              "       [0.548834  , 0.48347196],\n",
              "       [0.52730006, 0.5085086 ],\n",
              "       [0.5426638 , 0.46417716],\n",
              "       [0.70454794, 0.3051945 ],\n",
              "       [0.5426638 , 0.46417716],\n",
              "       [0.302416  , 0.7401019 ],\n",
              "       [0.5426638 , 0.46417716],\n",
              "       [0.5426638 , 0.46417716],\n",
              "       [0.8515033 , 0.13378556],\n",
              "       [0.29771036, 0.74371284],\n",
              "       [0.8519491 , 0.13351305],\n",
              "       [0.5426638 , 0.46417716],\n",
              "       [0.5426638 , 0.46417716],\n",
              "       [0.5426638 , 0.46417716],\n",
              "       [0.96341693, 0.02199903],\n",
              "       [0.22628963, 0.80771685],\n",
              "       [0.3000475 , 0.743455  ],\n",
              "       [0.5426638 , 0.46417716],\n",
              "       [0.86240274, 0.12060666]], dtype=float32)"
            ]
          },
          "metadata": {
            "tags": []
          },
          "execution_count": 93
        }
      ]
    }
  ]
}